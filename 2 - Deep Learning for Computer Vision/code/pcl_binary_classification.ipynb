{
 "cells": [
  {
   "cell_type": "markdown",
   "metadata": {},
   "source": [
    "# Point Cloud Binary Classification with PyTorch"
   ]
  },
  {
   "cell_type": "markdown",
   "metadata": {},
   "source": [
    "Make sure you are using the `dl4cv` conda environment."
   ]
  },
  {
   "cell_type": "markdown",
   "metadata": {},
   "source": [
    "## Dataset loading and visualization"
   ]
  },
  {
   "cell_type": "markdown",
   "metadata": {},
   "source": [
    "The input X contain 100 2D points, and y are their corresponding labels (0 or 1). The goal is to train a model that can classify every point to its correct label.\n"
   ]
  },
  {
   "cell_type": "code",
   "execution_count": 5,
   "metadata": {},
   "outputs": [
    {
     "data": {
      "image/png": "[encoded data removed]",
      "text/plain": [
       "<Figure size 640x480 with 1 Axes>"
      ]
     },
     "metadata": {},
     "output_type": "display_data"
    },
    {
     "data": {
      "text/plain": [
       "<Figure size 640x480 with 0 Axes>"
      ]
     },
     "metadata": {},
     "output_type": "display_data"
    }
   ],
   "source": [
    "%matplotlib inline\n",
    "import matplotlib.pyplot as plt\n",
    "import numpy as np\n",
    "import torch\n",
    "import torch.nn as nn\n",
    "import torch.nn.functional as F\n",
    "import torch.optim as optim\n",
    "from torch.utils.data import Dataset\n",
    "from torch.utils.data import DataLoader\n",
    "from torch.optim import Adam\n",
    "\n",
    "dataset = np.load('data/2d_pcl_dataset.npz')\n",
    "X, y = dataset['X'], dataset['y']\n",
    "\n",
    "X0 = X[y==0] # 50 2D points have label 0\n",
    "X1 = X[y==1] # 50 2D points have label 1\n",
    "\n",
    "def plot(X0, X1, fit_param=None):\n",
    "    plt.scatter(X0[:,0], X0[:,1], color='red', label=0)\n",
    "    plt.scatter(X1[:,0], X1[:,1], color='blue', label=1)\n",
    "    \n",
    "    plt.xlim([-0.55, 0.55])\n",
    "    plt.ylim([-0.35, 0.25])\n",
    "    plt.legend()\n",
    "    plt.show()\n",
    "    plt.clf()\n",
    "\n",
    "plot(X0, X1)"
   ]
  },
  {
   "cell_type": "markdown",
   "metadata": {},
   "source": [
    "## Logistic Regression for the point cloud classification task\n"
   ]
  },
  {
   "cell_type": "markdown",
   "metadata": {},
   "source": [
    "Starting by filling in the `Simple2DDataset` class below. First, in the class constructore `__init__`, you will need to read the right `2d_pcl_dataset.npz` from disk.\n",
    "\n",
    "Second, in the `__getitem__`, you will need to take a single data point and its label based on its index `idx`"
   ]
  },
  {
   "cell_type": "code",
   "execution_count": 21,
   "metadata": {},
   "outputs": [],
   "source": [
    "class Simple2DDataset(Dataset):\n",
    "    def __init__(self):\n",
    "        super().__init__()\n",
    "        #########################################################################\n",
    "        # TODO: read data from disk using np.load.\n",
    "        # Data is located in the folder \"data\".\n",
    "        # Save samples and labels to class members self.X and self.y respectively.\n",
    "        # samples should be an Nx2 numpy array. Labels should be Nx1.\n",
    "        #########################################################################\n",
    "        \n",
    "        labeled_data = np.load(\"data/2d_pcl_dataset.npz\")\n",
    "        self.X = labeled_data[\"X\"]\n",
    "        self.y = labeled_data[\"y\"]\n",
    "        \n",
    "        assert X.ndim == 2 and X.shape[1] == 2\n",
    "        assert y.ndim == 1\n",
    "        assert X.shape[0] == y.shape[0]\n",
    "     \n",
    "    def __len__(self):\n",
    "        # Returns the number of samples in the dataset.\n",
    "        return self.X.shape[0]\n",
    "    \n",
    "    def __getitem__(self, idx):\n",
    "        #########################################################################\n",
    "        # TODO: return the sample and label with index idx\n",
    "        #########################################################################\n",
    "        point = self.X[idx]\n",
    "        label = self.y[idx]\n",
    "        \n",
    "        # Convert to tensor.\n",
    "        return torch.from_numpy(point).float(), \\\n",
    "               torch.from_numpy(label[np.newaxis]).float()\n"
   ]
  },
  {
   "cell_type": "markdown",
   "metadata": {},
   "source": [
    "With the complete `Simple2DDataset`, we can create a PyTorch dataloader\n",
    "\n",
    "**NOTE**: if you encounter some unexpected errors in data loading, try setting `NUM_WORKERS = 0`"
   ]
  },
  {
   "cell_type": "code",
   "execution_count": 26,
   "metadata": {},
   "outputs": [],
   "source": [
    "BATCH_SIZE = 8\n",
    "NUM_WORKERS = 0\n",
    "\n",
    "# create the dataloader\n",
    "dataset = Simple2DDataset()\n",
    "train_dataloader = DataLoader(\n",
    "    dataset,\n",
    "    batch_size=BATCH_SIZE,\n",
    "    num_workers=NUM_WORKERS,\n",
    "    shuffle=True\n",
    ")"
   ]
  },
  {
   "cell_type": "markdown",
   "metadata": {},
   "source": [
    "Now, define your first network by filling in the `LinearClassifier` class below.\n",
    "\n",
    "Add a single linear layer `nn.Linear` inside the `nn.Sequential` call. The input is 2D, and the output should be a single value, corresponding to the probability of a given 2D point being part of cluster 0."
   ]
  },
  {
   "cell_type": "code",
   "execution_count": 27,
   "metadata": {},
   "outputs": [],
   "source": [
    "class LinearClassifier(nn.Module):\n",
    "    def __init__(self):\n",
    "        super().__init__()\n",
    "\n",
    "        self.codename = 'linear'\n",
    "\n",
    "        #########################################################################\n",
    "        # TODO: add a single linear layer with nn.Linear, inside the `nn.Sequential` call.\n",
    "        # Input is 2D.\n",
    "        # Output is a single value.\n",
    "        #########################################################################\n",
    "        self.model = nn.Sequential(nn.Linear(2,1))\n",
    "        \n",
    "    def forward(self, batch):\n",
    "        # Process batch using the defined model.\n",
    "        x = self.model(batch)\n",
    "        # Final sigmoid activation to obtain a probability between 0 and 1.\n",
    "        return torch.sigmoid(x)"
   ]
  },
  {
   "cell_type": "markdown",
   "metadata": {},
   "source": [
    "Now, you are asked to implement the training loop below"
   ]
  },
  {
   "cell_type": "code",
   "execution_count": 28,
   "metadata": {},
   "outputs": [],
   "source": [
    "def train(net, optimizer, dataloader, epoch):\n",
    "    net.train()\n",
    "    loss_sum = 0\n",
    "    for batch_idx, (point, label) in enumerate(dataloader):\n",
    "        # First we need to zero the gradient, otherwise PyTorch would accumulate them\n",
    "        optimizer.zero_grad()\n",
    "\n",
    "        #########################################################################\n",
    "        #TODO: \n",
    "        # 1. forward pass of the network to obtain the predictions given the batch\n",
    "        # 2. compute the loss using F.binary_cross_entropy\n",
    "        # 3. backward pass on the loss using loss.backward(), and one step \n",
    "        # of gradient descent (optimization) using optimizer.step()\n",
    "        #########################################################################\n",
    "        \n",
    "        predictions = net.forward(point)\n",
    "        loss = F.binary_cross_entropy(predictions, label)\n",
    "        loss.backward()\n",
    "        optimizer.step()\n",
    "        \n",
    "        loss_sum += loss.item()\n",
    "        \n",
    "    return loss_sum\n",
    "        "
   ]
  },
  {
   "cell_type": "markdown",
   "metadata": {},
   "source": [
    "You can now run below to train the linear model."
   ]
  },
  {
   "cell_type": "code",
   "execution_count": 29,
   "metadata": {
    "scrolled": true,
    "tags": []
   },
   "outputs": [
    {
     "name": "stdout",
     "output_type": "stream",
     "text": [
      "[Epoch 01] Loss: 7.8608\n",
      "[Epoch 02] Loss: 6.4392\n",
      "[Epoch 03] Loss: 5.6126\n",
      "[Epoch 04] Loss: 5.1218\n",
      "[Epoch 05] Loss: 4.8769\n",
      "[Epoch 06] Loss: 4.8224\n",
      "[Epoch 07] Loss: 4.4411\n",
      "[Epoch 08] Loss: 4.2656\n",
      "[Epoch 09] Loss: 4.1916\n",
      "[Epoch 10] Loss: 4.0215\n",
      "[Epoch 11] Loss: 3.9476\n",
      "[Epoch 12] Loss: 4.0445\n",
      "[Epoch 13] Loss: 3.9144\n",
      "[Epoch 14] Loss: 3.9796\n",
      "[Epoch 15] Loss: 3.7142\n",
      "[Epoch 16] Loss: 3.7580\n",
      "[Epoch 17] Loss: 4.0114\n",
      "[Epoch 18] Loss: 3.6556\n",
      "[Epoch 19] Loss: 3.7927\n",
      "[Epoch 20] Loss: 3.8087\n",
      "[Epoch 21] Loss: 3.5739\n",
      "[Epoch 22] Loss: 3.5695\n",
      "[Epoch 23] Loss: 3.6329\n",
      "[Epoch 24] Loss: 3.5718\n",
      "[Epoch 25] Loss: 3.7564\n",
      "[Epoch 26] Loss: 3.5034\n",
      "[Epoch 27] Loss: 3.5377\n",
      "[Epoch 28] Loss: 3.7050\n",
      "[Epoch 29] Loss: 3.5551\n",
      "[Epoch 30] Loss: 3.6679\n",
      "[Epoch 31] Loss: 3.4760\n",
      "[Epoch 32] Loss: 3.7110\n",
      "[Epoch 33] Loss: 3.5478\n",
      "[Epoch 34] Loss: 3.4666\n",
      "[Epoch 35] Loss: 3.6935\n",
      "[Epoch 36] Loss: 3.6323\n",
      "[Epoch 37] Loss: 3.7120\n",
      "[Epoch 38] Loss: 3.7979\n",
      "[Epoch 39] Loss: 3.4606\n",
      "[Epoch 40] Loss: 3.4442\n",
      "[Epoch 41] Loss: 3.5072\n",
      "[Epoch 42] Loss: 3.4535\n",
      "[Epoch 43] Loss: 3.8300\n",
      "[Epoch 44] Loss: 3.4395\n",
      "[Epoch 45] Loss: 3.4770\n",
      "[Epoch 46] Loss: 3.5118\n",
      "[Epoch 47] Loss: 3.4788\n",
      "[Epoch 48] Loss: 3.5969\n",
      "[Epoch 49] Loss: 3.4432\n",
      "[Epoch 50] Loss: 3.4295\n",
      "[Epoch 51] Loss: 3.4449\n",
      "[Epoch 52] Loss: 3.7158\n",
      "[Epoch 53] Loss: 3.7380\n",
      "[Epoch 54] Loss: 3.6543\n",
      "[Epoch 55] Loss: 3.7077\n",
      "[Epoch 56] Loss: 3.5001\n",
      "[Epoch 57] Loss: 3.5418\n",
      "[Epoch 58] Loss: 3.8287\n",
      "[Epoch 59] Loss: 3.5580\n",
      "[Epoch 60] Loss: 3.4478\n",
      "[Epoch 61] Loss: 3.4874\n",
      "[Epoch 62] Loss: 3.5098\n",
      "[Epoch 63] Loss: 3.4556\n",
      "[Epoch 64] Loss: 3.6511\n",
      "[Epoch 65] Loss: 3.4931\n",
      "[Epoch 66] Loss: 3.4623\n",
      "[Epoch 67] Loss: 3.6793\n",
      "[Epoch 68] Loss: 4.0799\n",
      "[Epoch 69] Loss: 3.8746\n",
      "[Epoch 70] Loss: 3.4556\n",
      "[Epoch 71] Loss: 3.5371\n",
      "[Epoch 72] Loss: 3.5123\n",
      "[Epoch 73] Loss: 3.5949\n",
      "[Epoch 74] Loss: 3.6830\n",
      "[Epoch 75] Loss: 3.4959\n",
      "[Epoch 76] Loss: 3.4598\n",
      "[Epoch 77] Loss: 3.4632\n",
      "[Epoch 78] Loss: 3.5372\n",
      "[Epoch 79] Loss: 3.8147\n",
      "[Epoch 80] Loss: 3.4885\n",
      "[Epoch 81] Loss: 3.4762\n",
      "[Epoch 82] Loss: 3.4936\n",
      "[Epoch 83] Loss: 3.4929\n",
      "[Epoch 84] Loss: 3.6269\n",
      "[Epoch 85] Loss: 3.8868\n",
      "[Epoch 86] Loss: 3.5137\n",
      "[Epoch 87] Loss: 3.7927\n",
      "[Epoch 88] Loss: 3.4909\n",
      "[Epoch 89] Loss: 3.8561\n",
      "[Epoch 90] Loss: 3.4491\n",
      "[Epoch 91] Loss: 3.7164\n",
      "[Epoch 92] Loss: 3.9115\n",
      "[Epoch 93] Loss: 3.5878\n",
      "[Epoch 94] Loss: 3.5517\n",
      "[Epoch 95] Loss: 3.4474\n",
      "[Epoch 96] Loss: 3.8241\n",
      "[Epoch 97] Loss: 3.4275\n",
      "[Epoch 98] Loss: 3.6243\n",
      "[Epoch 99] Loss: 3.7042\n",
      "[Epoch 100] Loss: 3.4800\n"
     ]
    }
   ],
   "source": [
    "NUM_EPOCHS = 100\n",
    "# create the network.\n",
    "net = LinearClassifier()\n",
    "\n",
    "# create the optimizer.\n",
    "optimizer = Adam(net.parameters(), lr=0.1)\n",
    "\n",
    "best_accuracy = 0\n",
    "for epoch_idx in range(NUM_EPOCHS):\n",
    "    loss = train(net, optimizer, train_dataloader, epoch_idx)\n",
    "    print('[Epoch %02d] Loss: %.4f' % (epoch_idx + 1, loss))"
   ]
  },
  {
   "cell_type": "markdown",
   "metadata": {},
   "source": [
    "Now plot your result below.\n"
   ]
  },
  {
   "cell_type": "code",
   "execution_count": 30,
   "metadata": {},
   "outputs": [
    {
     "data": {
      "image/png": "[encoded data removed]",
      "text/plain": [
       "<Figure size 640x480 with 1 Axes>"
      ]
     },
     "metadata": {},
     "output_type": "display_data"
    },
    {
     "data": {
      "text/plain": [
       "<Figure size 640x480 with 0 Axes>"
      ]
     },
     "metadata": {},
     "output_type": "display_data"
    }
   ],
   "source": [
    "p = np.linspace(-0.5, 0.5, 500)\n",
    "x_plot, y_plot = np.meshgrid(p, p)\n",
    "X_plot = np.stack((x_plot, y_plot), axis=2).reshape(-1, 2)\n",
    "X_plot = torch.from_numpy(X_plot).float()\n",
    "output = net(X_plot)\n",
    "output = output.detach().numpy()\n",
    "output = output.reshape(x_plot.shape[0], x_plot.shape[1])\n",
    "\n",
    "plt.contour(x_plot, y_plot, output, [0.5],\n",
    "                  colors=('k',),\n",
    "                  linewidths=(3,))\n",
    "plot(X0, X1)\n"
   ]
  },
  {
   "cell_type": "markdown",
   "metadata": {},
   "source": [
    "### Implement your first multi-layer perceptron (MLP) for point cloud classification\n",
    "Now you should notice that your logistic regression model cannot classify the point cloud correctly, and this is as expected :)  \n",
    "Therefore, we now ask you to implement an MLP for the same binary classification task."
   ]
  },
  {
   "cell_type": "code",
   "execution_count": 31,
   "metadata": {},
   "outputs": [],
   "source": [
    "# These are the parameters to be used\n",
    "nInput = 2\n",
    "nOutput = 1\n",
    "nHidden = 16\n",
    "act_fn = nn.ReLU()\n",
    "\n",
    "class MLP(nn.Module):\n",
    "    def __init__(self, nInput, nOutput, nHidden, act_fn):\n",
    "        super().__init__()\n",
    "\n",
    "        # Define the network layers in order.\n",
    "        # Input is 2D (nInput).\n",
    "        # Output is a single value (nOutput).\n",
    "        # Multiple linear layers each followed by a ReLU non-linearity (apart from the last).\n",
    "        #########################################################################\n",
    "        # TODO: add a two-layer MLP, inside the `nn.Sequential` call.\n",
    "        # Input is 2D.\n",
    "        # Output is a single value.\n",
    "\n",
    "        # Hint: unlike logistic regression where you need only one nn.Linear layer, \n",
    "        # here you will have two nn.Linear layers. After the first layer, we \n",
    "        # apply a ReLU activation function. The output is then passed to another \n",
    "        # linear layer. Note that you should use `nHidden` below as the hidden dimension \n",
    "        # of your linear layers.\n",
    "        #########################################################################\n",
    "        self.model = nn.Sequential(\n",
    "            nn.Linear(nInput, nHidden),\n",
    "            act_fn,\n",
    "            nn.Linear(nHidden, nOutput)\n",
    "        )\n",
    "        \n",
    "    def forward(self, batch):\n",
    "        # Process batch using the defined model.\n",
    "        x = self.model(batch)\n",
    "        # Final sigmoid activation to obtain a probability.\n",
    "        return torch.sigmoid(x)\n"
   ]
  },
  {
   "cell_type": "markdown",
   "metadata": {},
   "source": [
    "Run below again!"
   ]
  },
  {
   "cell_type": "code",
   "execution_count": 32,
   "metadata": {},
   "outputs": [
    {
     "name": "stdout",
     "output_type": "stream",
     "text": [
      "[Epoch 01] Loss: 6.6185\n",
      "[Epoch 02] Loss: 4.0785\n",
      "[Epoch 03] Loss: 3.6558\n",
      "[Epoch 04] Loss: 3.7159\n",
      "[Epoch 05] Loss: 3.8208\n",
      "[Epoch 06] Loss: 3.6563\n",
      "[Epoch 07] Loss: 4.8214\n",
      "[Epoch 08] Loss: 3.4821\n",
      "[Epoch 09] Loss: 3.4170\n",
      "[Epoch 10] Loss: 3.2146\n",
      "[Epoch 11] Loss: 3.5537\n",
      "[Epoch 12] Loss: 3.3799\n",
      "[Epoch 13] Loss: 3.4556\n",
      "[Epoch 14] Loss: 3.8442\n",
      "[Epoch 15] Loss: 3.4348\n",
      "[Epoch 16] Loss: 3.7050\n",
      "[Epoch 17] Loss: 2.9447\n",
      "[Epoch 18] Loss: 3.1170\n",
      "[Epoch 19] Loss: 2.8885\n",
      "[Epoch 20] Loss: 3.1565\n",
      "[Epoch 21] Loss: 3.0043\n",
      "[Epoch 22] Loss: 3.2775\n",
      "[Epoch 23] Loss: 3.1604\n",
      "[Epoch 24] Loss: 2.9185\n",
      "[Epoch 25] Loss: 2.9211\n",
      "[Epoch 26] Loss: 2.9122\n",
      "[Epoch 27] Loss: 3.0247\n",
      "[Epoch 28] Loss: 3.0542\n",
      "[Epoch 29] Loss: 3.1441\n",
      "[Epoch 30] Loss: 2.8779\n",
      "[Epoch 31] Loss: 2.9473\n",
      "[Epoch 32] Loss: 2.9761\n",
      "[Epoch 33] Loss: 2.9644\n",
      "[Epoch 34] Loss: 2.9814\n",
      "[Epoch 35] Loss: 3.0021\n",
      "[Epoch 36] Loss: 3.0515\n",
      "[Epoch 37] Loss: 3.4041\n",
      "[Epoch 38] Loss: 2.9602\n",
      "[Epoch 39] Loss: 3.3275\n",
      "[Epoch 40] Loss: 3.3452\n",
      "[Epoch 41] Loss: 3.4447\n",
      "[Epoch 42] Loss: 3.2638\n",
      "[Epoch 43] Loss: 3.1455\n",
      "[Epoch 44] Loss: 3.0583\n",
      "[Epoch 45] Loss: 2.8284\n",
      "[Epoch 46] Loss: 2.9439\n",
      "[Epoch 47] Loss: 2.9073\n",
      "[Epoch 48] Loss: 3.0562\n",
      "[Epoch 49] Loss: 2.8239\n",
      "[Epoch 50] Loss: 2.7730\n",
      "[Epoch 51] Loss: 2.7853\n",
      "[Epoch 52] Loss: 2.6883\n",
      "[Epoch 53] Loss: 2.7407\n",
      "[Epoch 54] Loss: 2.9073\n",
      "[Epoch 55] Loss: 3.1981\n",
      "[Epoch 56] Loss: 2.8551\n",
      "[Epoch 57] Loss: 2.5905\n",
      "[Epoch 58] Loss: 2.6786\n",
      "[Epoch 59] Loss: 2.7500\n",
      "[Epoch 60] Loss: 2.4643\n",
      "[Epoch 61] Loss: 2.5203\n",
      "[Epoch 62] Loss: 2.5053\n",
      "[Epoch 63] Loss: 2.1200\n",
      "[Epoch 64] Loss: 1.9031\n",
      "[Epoch 65] Loss: 1.5175\n",
      "[Epoch 66] Loss: 1.3319\n",
      "[Epoch 67] Loss: 0.9985\n",
      "[Epoch 68] Loss: 0.8142\n",
      "[Epoch 69] Loss: 0.7603\n",
      "[Epoch 70] Loss: 0.7318\n",
      "[Epoch 71] Loss: 0.5825\n",
      "[Epoch 72] Loss: 0.4834\n",
      "[Epoch 73] Loss: 0.3872\n",
      "[Epoch 74] Loss: 0.3575\n",
      "[Epoch 75] Loss: 0.3111\n",
      "[Epoch 76] Loss: 0.2651\n",
      "[Epoch 77] Loss: 0.2747\n",
      "[Epoch 78] Loss: 0.2412\n",
      "[Epoch 79] Loss: 0.2218\n",
      "[Epoch 80] Loss: 0.2065\n",
      "[Epoch 81] Loss: 0.1772\n",
      "[Epoch 82] Loss: 0.1582\n",
      "[Epoch 83] Loss: 0.1591\n",
      "[Epoch 84] Loss: 0.1434\n",
      "[Epoch 85] Loss: 0.1456\n",
      "[Epoch 86] Loss: 0.1431\n",
      "[Epoch 87] Loss: 0.1313\n",
      "[Epoch 88] Loss: 0.1400\n",
      "[Epoch 89] Loss: 0.1024\n",
      "[Epoch 90] Loss: 0.1187\n",
      "[Epoch 91] Loss: 0.0975\n",
      "[Epoch 92] Loss: 0.1016\n",
      "[Epoch 93] Loss: 0.0929\n",
      "[Epoch 94] Loss: 0.1013\n",
      "[Epoch 95] Loss: 0.0787\n",
      "[Epoch 96] Loss: 0.0849\n",
      "[Epoch 97] Loss: 0.0834\n",
      "[Epoch 98] Loss: 0.0835\n",
      "[Epoch 99] Loss: 0.0853\n",
      "[Epoch 100] Loss: 0.0707\n",
      "[Epoch 101] Loss: 0.0786\n",
      "[Epoch 102] Loss: 0.0688\n",
      "[Epoch 103] Loss: 0.0646\n",
      "[Epoch 104] Loss: 0.0628\n",
      "[Epoch 105] Loss: 0.0571\n",
      "[Epoch 106] Loss: 0.0521\n",
      "[Epoch 107] Loss: 0.0550\n",
      "[Epoch 108] Loss: 0.0529\n",
      "[Epoch 109] Loss: 0.0493\n",
      "[Epoch 110] Loss: 0.0494\n",
      "[Epoch 111] Loss: 0.0492\n",
      "[Epoch 112] Loss: 0.0443\n",
      "[Epoch 113] Loss: 0.0457\n",
      "[Epoch 114] Loss: 0.0415\n",
      "[Epoch 115] Loss: 0.0445\n",
      "[Epoch 116] Loss: 0.0438\n",
      "[Epoch 117] Loss: 0.0402\n",
      "[Epoch 118] Loss: 0.0419\n",
      "[Epoch 119] Loss: 0.0406\n",
      "[Epoch 120] Loss: 0.0366\n",
      "[Epoch 121] Loss: 0.0350\n",
      "[Epoch 122] Loss: 0.0383\n",
      "[Epoch 123] Loss: 0.0431\n",
      "[Epoch 124] Loss: 0.0370\n",
      "[Epoch 125] Loss: 0.0416\n",
      "[Epoch 126] Loss: 0.0300\n",
      "[Epoch 127] Loss: 0.0335\n",
      "[Epoch 128] Loss: 0.0300\n",
      "[Epoch 129] Loss: 0.0300\n",
      "[Epoch 130] Loss: 0.0268\n",
      "[Epoch 131] Loss: 0.0326\n",
      "[Epoch 132] Loss: 0.0271\n",
      "[Epoch 133] Loss: 0.0263\n",
      "[Epoch 134] Loss: 0.0286\n",
      "[Epoch 135] Loss: 0.0249\n",
      "[Epoch 136] Loss: 0.0276\n",
      "[Epoch 137] Loss: 0.0253\n",
      "[Epoch 138] Loss: 0.0231\n",
      "[Epoch 139] Loss: 0.0251\n",
      "[Epoch 140] Loss: 0.0237\n",
      "[Epoch 141] Loss: 0.0214\n",
      "[Epoch 142] Loss: 0.0264\n",
      "[Epoch 143] Loss: 0.0223\n",
      "[Epoch 144] Loss: 0.0225\n",
      "[Epoch 145] Loss: 0.0218\n",
      "[Epoch 146] Loss: 0.0199\n",
      "[Epoch 147] Loss: 0.0194\n",
      "[Epoch 148] Loss: 0.0183\n",
      "[Epoch 149] Loss: 0.0189\n",
      "[Epoch 150] Loss: 0.0187\n",
      "[Epoch 151] Loss: 0.0185\n",
      "[Epoch 152] Loss: 0.0208\n",
      "[Epoch 153] Loss: 0.0182\n",
      "[Epoch 154] Loss: 0.0176\n",
      "[Epoch 155] Loss: 0.0170\n",
      "[Epoch 156] Loss: 0.0163\n",
      "[Epoch 157] Loss: 0.0195\n",
      "[Epoch 158] Loss: 0.0184\n",
      "[Epoch 159] Loss: 0.0192\n",
      "[Epoch 160] Loss: 0.0153\n",
      "[Epoch 161] Loss: 0.0187\n",
      "[Epoch 162] Loss: 0.0156\n",
      "[Epoch 163] Loss: 0.0154\n",
      "[Epoch 164] Loss: 0.0143\n",
      "[Epoch 165] Loss: 0.0139\n",
      "[Epoch 166] Loss: 0.0161\n",
      "[Epoch 167] Loss: 0.0146\n",
      "[Epoch 168] Loss: 0.0139\n",
      "[Epoch 169] Loss: 0.0127\n",
      "[Epoch 170] Loss: 0.0131\n",
      "[Epoch 171] Loss: 0.0124\n",
      "[Epoch 172] Loss: 0.0122\n",
      "[Epoch 173] Loss: 0.0123\n",
      "[Epoch 174] Loss: 0.0121\n",
      "[Epoch 175] Loss: 0.0116\n",
      "[Epoch 176] Loss: 0.0131\n",
      "[Epoch 177] Loss: 0.0130\n",
      "[Epoch 178] Loss: 0.0114\n",
      "[Epoch 179] Loss: 0.0124\n",
      "[Epoch 180] Loss: 0.0106\n",
      "[Epoch 181] Loss: 0.0106\n",
      "[Epoch 182] Loss: 0.0106\n",
      "[Epoch 183] Loss: 0.0105\n",
      "[Epoch 184] Loss: 0.0101\n",
      "[Epoch 185] Loss: 0.0105\n",
      "[Epoch 186] Loss: 0.0097\n",
      "[Epoch 187] Loss: 0.0098\n",
      "[Epoch 188] Loss: 0.0100\n",
      "[Epoch 189] Loss: 0.0106\n",
      "[Epoch 190] Loss: 0.0093\n",
      "[Epoch 191] Loss: 0.0113\n",
      "[Epoch 192] Loss: 0.0102\n",
      "[Epoch 193] Loss: 0.0102\n",
      "[Epoch 194] Loss: 0.0089\n",
      "[Epoch 195] Loss: 0.0092\n",
      "[Epoch 196] Loss: 0.0090\n",
      "[Epoch 197] Loss: 0.0088\n",
      "[Epoch 198] Loss: 0.0082\n",
      "[Epoch 199] Loss: 0.0088\n",
      "[Epoch 200] Loss: 0.0081\n"
     ]
    }
   ],
   "source": [
    "NUM_EPOCHS = 200\n",
    "\n",
    "# create the network.\n",
    "net = MLP(nInput, nOutput, nHidden, act_fn)\n",
    "\n",
    "# create the optimizer.\n",
    "optimizer = Adam(net.parameters(), lr=0.1)\n",
    "\n",
    "best_accuracy = 0\n",
    "for epoch_idx in range(NUM_EPOCHS):\n",
    "    loss = train(net, optimizer, train_dataloader, epoch_idx)\n",
    "    print('[Epoch %02d] Loss: %.4f' % (epoch_idx + 1, loss))"
   ]
  },
  {
   "cell_type": "markdown",
   "metadata": {},
   "source": [
    "Again plot your result. You should see that the decision boundary can clearly separate the point clouds.\n"
   ]
  },
  {
   "cell_type": "code",
   "execution_count": 33,
   "metadata": {},
   "outputs": [
    {
     "data": {
      "image/png": "[encoded data removed]",
      "text/plain": [
       "<Figure size 640x480 with 1 Axes>"
      ]
     },
     "metadata": {},
     "output_type": "display_data"
    },
    {
     "data": {
      "text/plain": [
       "<Figure size 640x480 with 0 Axes>"
      ]
     },
     "metadata": {},
     "output_type": "display_data"
    }
   ],
   "source": [
    "p = np.linspace(-0.5, 0.5, 500)\n",
    "x_plot, y_plot = np.meshgrid(p, p)\n",
    "X_plot = np.stack((x_plot, y_plot), axis=2).reshape(-1, 2)\n",
    "X_plot = torch.from_numpy(X_plot).float()\n",
    "output = net(X_plot)\n",
    "output = output.detach().numpy()\n",
    "output = output.reshape(x_plot.shape[0], x_plot.shape[1])\n",
    "\n",
    "plt.contour(x_plot, y_plot, output, [0.5],\n",
    "                  colors=('k',),\n",
    "                  linewidths=(3,))\n",
    "plot(X0, X1)"
   ]
  },
  {
   "cell_type": "markdown",
   "metadata": {},
   "source": [
    "When you are done, move forward to `image_classification.ipynb`."
   ]
  }
 ],
 "metadata": {
  "kernelspec": {
   "display_name": "Python 3.9.12 ('base')",
   "language": "python",
   "name": "python3"
  },
  "language_info": {
   "codemirror_mode": {
    "name": "ipython",
    "version": 3
   },
   "file_extension": ".py",
   "mimetype": "text/x-python",
   "name": "python",
   "nbconvert_exporter": "python",
   "pygments_lexer": "ipython3",
   "version": "3.9.18"
  },
  "vscode": {
   "interpreter": {
    "hash": "d268b61a0efacafa8645774cb6d0204c9f01d7563ef03f7672146d044e8f345c"
   }
  }
 },
 "nbformat": 4,
 "nbformat_minor": 4
}
