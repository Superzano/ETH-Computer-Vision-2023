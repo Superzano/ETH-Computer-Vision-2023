{
 "cells": [
  {
   "cell_type": "markdown",
   "metadata": {},
   "source": [
    "# Image Classification with PyTorch"
   ]
  },
  {
   "cell_type": "markdown",
   "metadata": {},
   "source": [
    "## Data loading\n"
   ]
  },
  {
   "cell_type": "code",
   "execution_count": 2,
   "metadata": {},
   "outputs": [],
   "source": [
    "import numpy as np\n",
    "import matplotlib.pyplot as plt\n",
    "\n",
    "import torch\n",
    "import torch.nn as nn\n",
    "import torch.nn.functional as F\n",
    "import torch.optim as optim\n",
    "from torch.utils.data import DataLoader\n",
    "import torchvision\n",
    "from torchvision import datasets, transforms"
   ]
  },
  {
   "cell_type": "code",
   "execution_count": 3,
   "metadata": {},
   "outputs": [],
   "source": [
    "# torchvision contains convinience functions for popular datasets\n",
    "ds_train = datasets.MNIST('data', train=True, download=True)"
   ]
  },
  {
   "cell_type": "markdown",
   "metadata": {},
   "source": [
    "Each sample is a 28x28 image"
   ]
  },
  {
   "cell_type": "code",
   "execution_count": 4,
   "metadata": {},
   "outputs": [
    {
     "name": "stdout",
     "output_type": "stream",
     "text": [
      "(<PIL.Image.Image image mode=L size=28x28 at 0x221D1579850>, 5)\n"
     ]
    },
    {
     "data": {
      "image/png": "[encoded data removed]",
      "text/plain": [
       "<PIL.Image.Image image mode=L size=120x120>"
      ]
     },
     "execution_count": 4,
     "metadata": {},
     "output_type": "execute_result"
    }
   ],
   "source": [
    "# if we index this dataset, we get a single data point: a PIL image and an Integer\n",
    "print(ds_train[0])\n",
    "ds_train[0][0].resize((120,120))"
   ]
  },
  {
   "cell_type": "markdown",
   "metadata": {},
   "source": [
    "Let's transform the data to something that our Pytorch models will understand\n",
    "for this purpose, we can supply a transform function to the datase"
   ]
  },
  {
   "cell_type": "code",
   "execution_count": 5,
   "metadata": {},
   "outputs": [],
   "source": [
    "transform = transforms.Compose([\n",
    "    transforms.ToTensor(),\n",
    "])\n",
    "ds_train = datasets.MNIST('data', train=True, download=True, transform=transform)"
   ]
  },
  {
   "cell_type": "markdown",
   "metadata": {},
   "source": [
    "The image is now a `torch.Tensor`"
   ]
  },
  {
   "cell_type": "code",
   "execution_count": 6,
   "metadata": {},
   "outputs": [
    {
     "data": {
      "text/plain": [
       "torch.Tensor"
      ]
     },
     "execution_count": 6,
     "metadata": {},
     "output_type": "execute_result"
    }
   ],
   "source": [
    "type(ds_train[0][0])"
   ]
  },
  {
   "cell_type": "markdown",
   "metadata": {},
   "source": [
    "The normalization is something you learned about in the lecture. Normalizing with $\\mu=0, \\sigma=1$ corresponds to no normalization. Let's compute the proper normalization constants!"
   ]
  },
  {
   "cell_type": "code",
   "execution_count": 7,
   "metadata": {},
   "outputs": [],
   "source": [
    "# lets get only the images \n",
    "ims_train = ds_train.data\n",
    "ims_train = ims_train.float() / 255."
   ]
  },
  {
   "cell_type": "code",
   "execution_count": 8,
   "metadata": {},
   "outputs": [
    {
     "name": "stdout",
     "output_type": "stream",
     "text": [
      "mu:  tensor(0.1307)\n",
      "std:  tensor(0.3081)\n"
     ]
    }
   ],
   "source": [
    "#########################################################################\n",
    "# TODO: calculate the mean and std of MNIST images\n",
    "# hint: to look for operations on pytorch tensor, refer to the official PyTorch docs \n",
    "# https://pytorch.org/docs/stable/\n",
    "#########################################################################\n",
    "mu = torch.mean(ims_train)\n",
    "std = torch.std(ims_train)\n",
    "\n",
    "print(\"mu: \", mu)\n",
    "print(\"std: \", std)"
   ]
  },
  {
   "cell_type": "markdown",
   "metadata": {},
   "source": [
    "We normalize the data as below."
   ]
  },
  {
   "cell_type": "code",
   "execution_count": 9,
   "metadata": {},
   "outputs": [],
   "source": [
    "transform = transforms.Compose([\n",
    "    transforms.ToTensor(),\n",
    "    transforms.Normalize(mu, std)\n",
    "])\n",
    "ds_train = datasets.MNIST('data', train=True, download=True, transform=transform)\n",
    "ds_test = datasets.MNIST('data', train=False, download=True, transform=transform)"
   ]
  },
  {
   "cell_type": "code",
   "execution_count": 10,
   "metadata": {},
   "outputs": [
    {
     "data": {
      "text/plain": [
       "(tensor(-0.4241), tensor(2.8215))"
      ]
     },
     "execution_count": 10,
     "metadata": {},
     "output_type": "execute_result"
    }
   ],
   "source": [
    "ds_train[0][0].min(), ds_train[0][0].max()"
   ]
  },
  {
   "cell_type": "markdown",
   "metadata": {},
   "source": [
    "Next, we want to receive mini-batches, not only single data points.\n",
    "We use PyTorch's DataLoader class. Build a dataloader with a batch size of 64 and 4 workers (number of subprocess that peform the dataloading). Important: you need to shuffle the training data, not the test data.\n",
    "\n",
    "**NOTE**: if you encounter some unexpected errors in data loading, try setting `NUM_WORKERS = 0`"
   ]
  },
  {
   "cell_type": "code",
   "execution_count": 11,
   "metadata": {},
   "outputs": [],
   "source": [
    "BATCH_SIZE = 64\n",
    "NUM_WORKERS = 4\n",
    "#########################################################################\n",
    "# TODO: Build a dataloader for both train and test data.\n",
    "#########################################################################\n",
    "dl_train = DataLoader(\n",
    "    ds_train,\n",
    "    batch_size=BATCH_SIZE,\n",
    "    num_workers=NUM_WORKERS,\n",
    "    shuffle=True\n",
    ")\n",
    "\n",
    "dl_test = DataLoader(\n",
    "    ds_test,\n",
    "    batch_size=BATCH_SIZE,\n",
    "    num_workers=NUM_WORKERS,\n",
    "    shuffle=False\n",
    ")"
   ]
  },
  {
   "cell_type": "markdown",
   "metadata": {},
   "source": [
    "## MLP in Pytorch\n",
    "\n",
    "Ok, the dataloading works. Let's build our model, PyTorch makes this very easy. We will build replicate the model from our last exercises. However, now, we add another variable called `nLayer` that indicates how many linear layers that in your network. Please adapt your code from last exercise accordingly to allow different number of layers."
   ]
  },
  {
   "cell_type": "code",
   "execution_count": 12,
   "metadata": {},
   "outputs": [],
   "source": [
    "# These are the parameters to be used\n",
    "nInput = 784\n",
    "nOutput = 10\n",
    "nLayer = 2\n",
    "nHidden = 16\n",
    "act_fn = nn.ReLU()"
   ]
  },
  {
   "cell_type": "code",
   "execution_count": 13,
   "metadata": {},
   "outputs": [],
   "source": [
    "#########################################################################\n",
    "# TODO: Implement the __init__ of the MLP class. \n",
    "# insert the activation after every linear layer. Important: the number of \n",
    "# hidden layers should be variable!\n",
    "#########################################################################\n",
    "\n",
    "class MLP(nn.Module):\n",
    "    def __init__(self, nInput, nOutput, nLayer, nHidden, act_fn):\n",
    "        super(MLP, self).__init__()\n",
    "        layers = [] \n",
    "        \n",
    "        ##### implement this part #####\n",
    "        \n",
    "        # First layer\n",
    "        layers.append(nn.Linear(nInput, nHidden))\n",
    "        layers.append(act_fn)\n",
    "        \n",
    "        # Intermediate layers\n",
    "        # !! NOTE !! : I interpreted nLayer as the number of hidden layers, as also confirmed (as a possible interpretation) on Moodle\n",
    "        for _ in range(nLayer):\n",
    "            layers.append(nn.Linear(nHidden, nHidden))\n",
    "            layers.append(act_fn)\n",
    "        \n",
    "        # Last layer\n",
    "        layers.append(nn.Linear(nHidden, nOutput))\n",
    "        \n",
    "        ###############################\n",
    "        \n",
    "        self.model = nn.Sequential(*layers)\n",
    "\n",
    "    def forward(self, x):\n",
    "        x = torch.flatten(x, 1)\n",
    "        return self.model(x)"
   ]
  },
  {
   "cell_type": "code",
   "execution_count": 14,
   "metadata": {
    "scrolled": true
   },
   "outputs": [
    {
     "data": {
      "text/plain": [
       "torch.Size([1, 10])"
      ]
     },
     "execution_count": 14,
     "metadata": {},
     "output_type": "execute_result"
    }
   ],
   "source": [
    "# Let's test if the forward pass works\n",
    "# this should print torch.Size([1, 10])\n",
    "t = torch.randn(1,1,28,28)\n",
    "mlp = MLP(nInput, nOutput, nLayer, nHidden, act_fn)\n",
    "mlp(t).shape"
   ]
  },
  {
   "cell_type": "code",
   "execution_count": 15,
   "metadata": {},
   "outputs": [
    {
     "data": {
      "text/plain": [
       "MLP(\n",
       "  (model): Sequential(\n",
       "    (0): Linear(in_features=784, out_features=16, bias=True)\n",
       "    (1): ReLU()\n",
       "    (2): Linear(in_features=16, out_features=16, bias=True)\n",
       "    (3): ReLU()\n",
       "    (4): Linear(in_features=16, out_features=16, bias=True)\n",
       "    (5): ReLU()\n",
       "    (6): Linear(in_features=16, out_features=10, bias=True)\n",
       "  )\n",
       ")"
      ]
     },
     "execution_count": 15,
     "metadata": {},
     "output_type": "execute_result"
    }
   ],
   "source": [
    "mlp"
   ]
  },
  {
   "cell_type": "markdown",
   "metadata": {},
   "source": [
    "We already implemented the test function for you"
   ]
  },
  {
   "cell_type": "code",
   "execution_count": 18,
   "metadata": {},
   "outputs": [],
   "source": [
    "def test(model, dl_test, device='cpu'):\n",
    "    model.eval()\n",
    "    test_loss = 0\n",
    "    correct = 0\n",
    "    with torch.no_grad():\n",
    "        for data, target in dl_test:\n",
    "            data, target = data.to(device), target.to(device)\n",
    "            output = model(data)\n",
    "            test_loss += F.cross_entropy(output, target, reduction='sum').item()  # sum up batch loss\n",
    "            pred = output.argmax(dim=1, keepdim=True)  # get the index of the max log-probability\n",
    "            correct += pred.eq(target.view_as(pred)).sum().item()\n",
    "\n",
    "    test_loss /= len(dl_test.dataset)\n",
    "\n",
    "    print('\\nTest set: Average loss: {:.4f}, Accuracy: {}/{} ({:.3f}%)\\n'.format(\n",
    "        test_loss, correct, len(dl_test.dataset),\n",
    "        100. * correct / len(dl_test.dataset)))"
   ]
  },
  {
   "cell_type": "markdown",
   "metadata": {},
   "source": [
    "Now you only need to implement the training and you are good to go"
   ]
  },
  {
   "cell_type": "code",
   "execution_count": 14,
   "metadata": {},
   "outputs": [],
   "source": [
    "#########################################################################\n",
    "# TODO: Implement the missing part of the training function. As a loss function we want to use cross entropy\n",
    "# It can be called with F.cross_entropy().\n",
    "# Hint: Pass through the model -> Backpropagate gradients -> Take gradient step\n",
    "#########################################################################\n",
    "\n",
    "def train(model, dl_train, optimizer, epoch, log_interval=100, device='cpu'):\n",
    "    model.train()\n",
    "    correct = 0\n",
    "    for batch_idx, (data, target) in enumerate(dl_train):\n",
    "        data, target = data.to(device), target.to(device)\n",
    "        \n",
    "        # first we need to zero the gradient, otherwise PyTorch would accumulate them\n",
    "        optimizer.zero_grad()         \n",
    "        \n",
    "        ##### implement this part #####\n",
    "        \n",
    "        output = model(data)\n",
    "        loss = F.cross_entropy(output, target)\n",
    "        loss.backward()\n",
    "        optimizer.step()\n",
    "        \n",
    "        ###############################\n",
    "\n",
    "        # stats\n",
    "        pred = output.argmax(dim=1, keepdim=True)  # get the index of the max log-probability\n",
    "        correct += pred.eq(target.view_as(pred)).sum().item()\n",
    "\n",
    "        if batch_idx % log_interval == 0:\n",
    "            print('Train Epoch: {} [{}/{} ({:.0f}%)]\\tLoss: {:.6f}'.format(\n",
    "                epoch, batch_idx * len(data), len(dl_train.dataset),\n",
    "                100. * batch_idx / len(dl_train), loss.item()))\n",
    "\n",
    "    print('\\nTrain set: Average loss: {:.4f}, Accuracy: {}/{} ({:.1f}%)\\n'.format(\n",
    "        loss, correct, len(dl_train.dataset),\n",
    "        100. * correct / len(dl_train.dataset)))"
   ]
  },
  {
   "cell_type": "markdown",
   "metadata": {},
   "source": [
    "Ok, the setup is almost done. The onoly missing part is the optimizer. We are going to use Adam."
   ]
  },
  {
   "cell_type": "code",
   "execution_count": 18,
   "metadata": {},
   "outputs": [],
   "source": [
    "# reinitialize the mlp, so we can play with parameters right here\n",
    "mlp = MLP(nInput, nOutput, nLayer, nHidden, act_fn)\n",
    "optimizer = optim.Adam(mlp.parameters())"
   ]
  },
  {
   "cell_type": "code",
   "execution_count": 19,
   "metadata": {
    "scrolled": true
   },
   "outputs": [
    {
     "name": "stdout",
     "output_type": "stream",
     "text": [
      "Train Epoch: 1 [0/60000 (0%)]\tLoss: 2.337059\n",
      "Train Epoch: 1 [6400/60000 (11%)]\tLoss: 0.875540\n",
      "Train Epoch: 1 [12800/60000 (21%)]\tLoss: 0.750057\n",
      "Train Epoch: 1 [19200/60000 (32%)]\tLoss: 0.292043\n",
      "Train Epoch: 1 [25600/60000 (43%)]\tLoss: 0.301244\n",
      "Train Epoch: 1 [32000/60000 (53%)]\tLoss: 0.261363\n",
      "Train Epoch: 1 [38400/60000 (64%)]\tLoss: 0.555562\n",
      "Train Epoch: 1 [44800/60000 (75%)]\tLoss: 0.254452\n",
      "Train Epoch: 1 [51200/60000 (85%)]\tLoss: 0.165807\n",
      "Train Epoch: 1 [57600/60000 (96%)]\tLoss: 0.174529\n",
      "\n",
      "Train set: Average loss: 0.4269, Accuracy: 50042/60000 (83.4%)\n",
      "\n",
      "\n",
      "Test set: Average loss: 0.2830, Accuracy: 9168/10000 (91.680%)\n",
      "\n",
      "Train Epoch: 2 [0/60000 (0%)]\tLoss: 0.363005\n",
      "Train Epoch: 2 [6400/60000 (11%)]\tLoss: 0.178641\n",
      "Train Epoch: 2 [12800/60000 (21%)]\tLoss: 0.381525\n",
      "Train Epoch: 2 [19200/60000 (32%)]\tLoss: 0.241264\n",
      "Train Epoch: 2 [25600/60000 (43%)]\tLoss: 0.191924\n",
      "Train Epoch: 2 [32000/60000 (53%)]\tLoss: 0.090715\n",
      "Train Epoch: 2 [38400/60000 (64%)]\tLoss: 0.198115\n",
      "Train Epoch: 2 [44800/60000 (75%)]\tLoss: 0.089179\n",
      "Train Epoch: 2 [51200/60000 (85%)]\tLoss: 0.277122\n",
      "Train Epoch: 2 [57600/60000 (96%)]\tLoss: 0.258069\n",
      "\n",
      "Train set: Average loss: 0.3964, Accuracy: 55434/60000 (92.4%)\n",
      "\n",
      "\n",
      "Test set: Average loss: 0.2246, Accuracy: 9326/10000 (93.260%)\n",
      "\n",
      "Train Epoch: 3 [0/60000 (0%)]\tLoss: 0.386618\n",
      "Train Epoch: 3 [6400/60000 (11%)]\tLoss: 0.149270\n",
      "Train Epoch: 3 [12800/60000 (21%)]\tLoss: 0.118040\n",
      "Train Epoch: 3 [19200/60000 (32%)]\tLoss: 0.256799\n",
      "Train Epoch: 3 [25600/60000 (43%)]\tLoss: 0.255649\n",
      "Train Epoch: 3 [32000/60000 (53%)]\tLoss: 0.357004\n",
      "Train Epoch: 3 [38400/60000 (64%)]\tLoss: 0.310239\n",
      "Train Epoch: 3 [44800/60000 (75%)]\tLoss: 0.101177\n",
      "Train Epoch: 3 [51200/60000 (85%)]\tLoss: 0.264125\n",
      "Train Epoch: 3 [57600/60000 (96%)]\tLoss: 0.138635\n",
      "\n",
      "Train set: Average loss: 0.2826, Accuracy: 56059/60000 (93.4%)\n",
      "\n",
      "\n",
      "Test set: Average loss: 0.2263, Accuracy: 9315/10000 (93.150%)\n",
      "\n",
      "Train Epoch: 4 [0/60000 (0%)]\tLoss: 0.203990\n",
      "Train Epoch: 4 [6400/60000 (11%)]\tLoss: 0.156174\n",
      "Train Epoch: 4 [12800/60000 (21%)]\tLoss: 0.252523\n",
      "Train Epoch: 4 [19200/60000 (32%)]\tLoss: 0.214054\n",
      "Train Epoch: 4 [25600/60000 (43%)]\tLoss: 0.077486\n",
      "Train Epoch: 4 [32000/60000 (53%)]\tLoss: 0.189451\n",
      "Train Epoch: 4 [38400/60000 (64%)]\tLoss: 0.101349\n",
      "Train Epoch: 4 [44800/60000 (75%)]\tLoss: 0.162599\n",
      "Train Epoch: 4 [51200/60000 (85%)]\tLoss: 0.165412\n",
      "Train Epoch: 4 [57600/60000 (96%)]\tLoss: 0.407514\n",
      "\n",
      "Train set: Average loss: 0.0741, Accuracy: 56378/60000 (94.0%)\n",
      "\n",
      "\n",
      "Test set: Average loss: 0.2057, Accuracy: 9365/10000 (93.650%)\n",
      "\n",
      "Train Epoch: 5 [0/60000 (0%)]\tLoss: 0.227374\n",
      "Train Epoch: 5 [6400/60000 (11%)]\tLoss: 0.135822\n",
      "Train Epoch: 5 [12800/60000 (21%)]\tLoss: 0.071061\n",
      "Train Epoch: 5 [19200/60000 (32%)]\tLoss: 0.194355\n",
      "Train Epoch: 5 [25600/60000 (43%)]\tLoss: 0.192488\n",
      "Train Epoch: 5 [32000/60000 (53%)]\tLoss: 0.078314\n",
      "Train Epoch: 5 [38400/60000 (64%)]\tLoss: 0.103386\n",
      "Train Epoch: 5 [44800/60000 (75%)]\tLoss: 0.162191\n",
      "Train Epoch: 5 [51200/60000 (85%)]\tLoss: 0.108617\n",
      "Train Epoch: 5 [57600/60000 (96%)]\tLoss: 0.320288\n",
      "\n",
      "Train set: Average loss: 0.2047, Accuracy: 56611/60000 (94.4%)\n",
      "\n",
      "\n",
      "Test set: Average loss: 0.1962, Accuracy: 9396/10000 (93.960%)\n",
      "\n",
      "Train Epoch: 6 [0/60000 (0%)]\tLoss: 0.033750\n",
      "Train Epoch: 6 [6400/60000 (11%)]\tLoss: 0.112232\n",
      "Train Epoch: 6 [12800/60000 (21%)]\tLoss: 0.115396\n",
      "Train Epoch: 6 [19200/60000 (32%)]\tLoss: 0.158888\n",
      "Train Epoch: 6 [25600/60000 (43%)]\tLoss: 0.138552\n",
      "Train Epoch: 6 [32000/60000 (53%)]\tLoss: 0.332310\n",
      "Train Epoch: 6 [38400/60000 (64%)]\tLoss: 0.206296\n",
      "Train Epoch: 6 [44800/60000 (75%)]\tLoss: 0.177351\n",
      "Train Epoch: 6 [51200/60000 (85%)]\tLoss: 0.131167\n",
      "Train Epoch: 6 [57600/60000 (96%)]\tLoss: 0.386470\n",
      "\n",
      "Train set: Average loss: 0.0481, Accuracy: 56813/60000 (94.7%)\n",
      "\n",
      "\n",
      "Test set: Average loss: 0.1838, Accuracy: 9421/10000 (94.210%)\n",
      "\n",
      "Train Epoch: 7 [0/60000 (0%)]\tLoss: 0.284345\n",
      "Train Epoch: 7 [6400/60000 (11%)]\tLoss: 0.130831\n",
      "Train Epoch: 7 [12800/60000 (21%)]\tLoss: 0.231613\n",
      "Train Epoch: 7 [19200/60000 (32%)]\tLoss: 0.191446\n",
      "Train Epoch: 7 [25600/60000 (43%)]\tLoss: 0.088465\n",
      "Train Epoch: 7 [32000/60000 (53%)]\tLoss: 0.132107\n",
      "Train Epoch: 7 [38400/60000 (64%)]\tLoss: 0.268431\n",
      "Train Epoch: 7 [44800/60000 (75%)]\tLoss: 0.108173\n",
      "Train Epoch: 7 [51200/60000 (85%)]\tLoss: 0.211464\n",
      "Train Epoch: 7 [57600/60000 (96%)]\tLoss: 0.103081\n",
      "\n",
      "Train set: Average loss: 0.3578, Accuracy: 56952/60000 (94.9%)\n",
      "\n",
      "\n",
      "Test set: Average loss: 0.1711, Accuracy: 9449/10000 (94.490%)\n",
      "\n",
      "Train Epoch: 8 [0/60000 (0%)]\tLoss: 0.149556\n",
      "Train Epoch: 8 [6400/60000 (11%)]\tLoss: 0.111501\n",
      "Train Epoch: 8 [12800/60000 (21%)]\tLoss: 0.233135\n",
      "Train Epoch: 8 [19200/60000 (32%)]\tLoss: 0.107735\n",
      "Train Epoch: 8 [25600/60000 (43%)]\tLoss: 0.213878\n",
      "Train Epoch: 8 [32000/60000 (53%)]\tLoss: 0.061196\n",
      "Train Epoch: 8 [38400/60000 (64%)]\tLoss: 0.134825\n",
      "Train Epoch: 8 [44800/60000 (75%)]\tLoss: 0.216406\n",
      "Train Epoch: 8 [51200/60000 (85%)]\tLoss: 0.164913\n",
      "Train Epoch: 8 [57600/60000 (96%)]\tLoss: 0.176607\n",
      "\n",
      "Train set: Average loss: 0.2252, Accuracy: 57113/60000 (95.2%)\n",
      "\n",
      "\n",
      "Test set: Average loss: 0.1690, Accuracy: 9487/10000 (94.870%)\n",
      "\n",
      "Train Epoch: 9 [0/60000 (0%)]\tLoss: 0.172037\n",
      "Train Epoch: 9 [6400/60000 (11%)]\tLoss: 0.219374\n",
      "Train Epoch: 9 [12800/60000 (21%)]\tLoss: 0.152779\n",
      "Train Epoch: 9 [19200/60000 (32%)]\tLoss: 0.088866\n",
      "Train Epoch: 9 [25600/60000 (43%)]\tLoss: 0.197756\n",
      "Train Epoch: 9 [32000/60000 (53%)]\tLoss: 0.236175\n",
      "Train Epoch: 9 [38400/60000 (64%)]\tLoss: 0.120224\n",
      "Train Epoch: 9 [44800/60000 (75%)]\tLoss: 0.150790\n",
      "Train Epoch: 9 [51200/60000 (85%)]\tLoss: 0.297742\n",
      "Train Epoch: 9 [57600/60000 (96%)]\tLoss: 0.034418\n",
      "\n",
      "Train set: Average loss: 0.1590, Accuracy: 57220/60000 (95.4%)\n",
      "\n",
      "\n",
      "Test set: Average loss: 0.1786, Accuracy: 9466/10000 (94.660%)\n",
      "\n",
      "Train Epoch: 10 [0/60000 (0%)]\tLoss: 0.194410\n",
      "Train Epoch: 10 [6400/60000 (11%)]\tLoss: 0.201896\n",
      "Train Epoch: 10 [12800/60000 (21%)]\tLoss: 0.120220\n",
      "Train Epoch: 10 [19200/60000 (32%)]\tLoss: 0.147744\n",
      "Train Epoch: 10 [25600/60000 (43%)]\tLoss: 0.042780\n",
      "Train Epoch: 10 [32000/60000 (53%)]\tLoss: 0.080754\n",
      "Train Epoch: 10 [38400/60000 (64%)]\tLoss: 0.269742\n",
      "Train Epoch: 10 [44800/60000 (75%)]\tLoss: 0.198905\n",
      "Train Epoch: 10 [51200/60000 (85%)]\tLoss: 0.065232\n",
      "Train Epoch: 10 [57600/60000 (96%)]\tLoss: 0.088995\n",
      "\n",
      "Train set: Average loss: 0.3188, Accuracy: 57335/60000 (95.6%)\n",
      "\n",
      "\n",
      "Test set: Average loss: 0.1639, Accuracy: 9510/10000 (95.100%)\n",
      "\n",
      "Training is finished.\n"
     ]
    }
   ],
   "source": [
    "epochs = 10\n",
    "for epoch in range(1, epochs + 1):\n",
    "    train(mlp, dl_train, optimizer, epoch, log_interval=100)\n",
    "    test(mlp, dl_test)\n",
    "\n",
    "print ('Training is finished.')"
   ]
  },
  {
   "cell_type": "markdown",
   "metadata": {},
   "source": [
    "After training, you should see test accuracies of > **94%** - By they way, here we report test accuracy, the last exercises reported test error. Accuracy is simply (1 - error). Both metrics are commonly reported, there is no clear preference in literature for one or the other."
   ]
  },
  {
   "cell_type": "markdown",
   "metadata": {},
   "source": [
    "Now, can you do some parameter tuning to boost the test accuracy to > **97%**?"
   ]
  },
  {
   "cell_type": "code",
   "execution_count": 20,
   "metadata": {},
   "outputs": [
    {
     "name": "stdout",
     "output_type": "stream",
     "text": [
      "Train Epoch: 1 [0/60000 (0%)]\tLoss: 2.301321\n",
      "Train Epoch: 1 [6400/60000 (11%)]\tLoss: 0.263505\n",
      "Train Epoch: 1 [12800/60000 (21%)]\tLoss: 0.498154\n",
      "Train Epoch: 1 [19200/60000 (32%)]\tLoss: 0.271792\n",
      "Train Epoch: 1 [25600/60000 (43%)]\tLoss: 0.180082\n",
      "Train Epoch: 1 [32000/60000 (53%)]\tLoss: 0.228173\n",
      "Train Epoch: 1 [38400/60000 (64%)]\tLoss: 0.165956\n",
      "Train Epoch: 1 [44800/60000 (75%)]\tLoss: 0.169331\n",
      "Train Epoch: 1 [51200/60000 (85%)]\tLoss: 0.131522\n",
      "Train Epoch: 1 [57600/60000 (96%)]\tLoss: 0.104700\n",
      "\n",
      "Train set: Average loss: 0.0923, Accuracy: 53745/60000 (89.6%)\n",
      "\n",
      "\n",
      "Test set: Average loss: 0.1530, Accuracy: 9524/10000 (95.240%)\n",
      "\n",
      "Train Epoch: 2 [0/60000 (0%)]\tLoss: 0.172900\n",
      "Train Epoch: 2 [6400/60000 (11%)]\tLoss: 0.155943\n",
      "Train Epoch: 2 [12800/60000 (21%)]\tLoss: 0.180526\n",
      "Train Epoch: 2 [19200/60000 (32%)]\tLoss: 0.067059\n",
      "Train Epoch: 2 [25600/60000 (43%)]\tLoss: 0.080874\n",
      "Train Epoch: 2 [32000/60000 (53%)]\tLoss: 0.125666\n",
      "Train Epoch: 2 [38400/60000 (64%)]\tLoss: 0.081353\n",
      "Train Epoch: 2 [44800/60000 (75%)]\tLoss: 0.131701\n",
      "Train Epoch: 2 [51200/60000 (85%)]\tLoss: 0.076957\n",
      "Train Epoch: 2 [57600/60000 (96%)]\tLoss: 0.007891\n",
      "\n",
      "Train set: Average loss: 0.0824, Accuracy: 57617/60000 (96.0%)\n",
      "\n",
      "\n",
      "Test set: Average loss: 0.1286, Accuracy: 9609/10000 (96.090%)\n",
      "\n",
      "Train Epoch: 3 [0/60000 (0%)]\tLoss: 0.125916\n",
      "Train Epoch: 3 [6400/60000 (11%)]\tLoss: 0.155456\n",
      "Train Epoch: 3 [12800/60000 (21%)]\tLoss: 0.066667\n",
      "Train Epoch: 3 [19200/60000 (32%)]\tLoss: 0.096750\n",
      "Train Epoch: 3 [25600/60000 (43%)]\tLoss: 0.101592\n",
      "Train Epoch: 3 [32000/60000 (53%)]\tLoss: 0.123496\n",
      "Train Epoch: 3 [38400/60000 (64%)]\tLoss: 0.098839\n",
      "Train Epoch: 3 [44800/60000 (75%)]\tLoss: 0.110750\n",
      "Train Epoch: 3 [51200/60000 (85%)]\tLoss: 0.077684\n",
      "Train Epoch: 3 [57600/60000 (96%)]\tLoss: 0.106670\n",
      "\n",
      "Train set: Average loss: 0.1126, Accuracy: 58177/60000 (97.0%)\n",
      "\n",
      "\n",
      "Test set: Average loss: 0.1081, Accuracy: 9691/10000 (96.910%)\n",
      "\n",
      "Train Epoch: 4 [0/60000 (0%)]\tLoss: 0.083459\n",
      "Train Epoch: 4 [6400/60000 (11%)]\tLoss: 0.168519\n",
      "Train Epoch: 4 [12800/60000 (21%)]\tLoss: 0.040497\n",
      "Train Epoch: 4 [19200/60000 (32%)]\tLoss: 0.034928\n",
      "Train Epoch: 4 [25600/60000 (43%)]\tLoss: 0.092154\n",
      "Train Epoch: 4 [32000/60000 (53%)]\tLoss: 0.124258\n",
      "Train Epoch: 4 [38400/60000 (64%)]\tLoss: 0.057886\n",
      "Train Epoch: 4 [44800/60000 (75%)]\tLoss: 0.162357\n",
      "Train Epoch: 4 [51200/60000 (85%)]\tLoss: 0.171191\n",
      "Train Epoch: 4 [57600/60000 (96%)]\tLoss: 0.007332\n",
      "\n",
      "Train set: Average loss: 0.0362, Accuracy: 58557/60000 (97.6%)\n",
      "\n",
      "\n",
      "Test set: Average loss: 0.1115, Accuracy: 9701/10000 (97.010%)\n",
      "\n",
      "Train Epoch: 5 [0/60000 (0%)]\tLoss: 0.030894\n",
      "Train Epoch: 5 [6400/60000 (11%)]\tLoss: 0.008374\n",
      "Train Epoch: 5 [12800/60000 (21%)]\tLoss: 0.088563\n",
      "Train Epoch: 5 [19200/60000 (32%)]\tLoss: 0.027819\n",
      "Train Epoch: 5 [25600/60000 (43%)]\tLoss: 0.050291\n",
      "Train Epoch: 5 [32000/60000 (53%)]\tLoss: 0.154941\n",
      "Train Epoch: 5 [38400/60000 (64%)]\tLoss: 0.099699\n",
      "Train Epoch: 5 [44800/60000 (75%)]\tLoss: 0.047943\n",
      "Train Epoch: 5 [51200/60000 (85%)]\tLoss: 0.015170\n",
      "Train Epoch: 5 [57600/60000 (96%)]\tLoss: 0.028981\n",
      "\n",
      "Train set: Average loss: 0.0056, Accuracy: 58763/60000 (97.9%)\n",
      "\n",
      "\n",
      "Test set: Average loss: 0.0961, Accuracy: 9741/10000 (97.410%)\n",
      "\n",
      "Train Epoch: 6 [0/60000 (0%)]\tLoss: 0.024086\n",
      "Train Epoch: 6 [6400/60000 (11%)]\tLoss: 0.009785\n",
      "Train Epoch: 6 [12800/60000 (21%)]\tLoss: 0.050423\n",
      "Train Epoch: 6 [19200/60000 (32%)]\tLoss: 0.018982\n",
      "Train Epoch: 6 [25600/60000 (43%)]\tLoss: 0.010217\n",
      "Train Epoch: 6 [32000/60000 (53%)]\tLoss: 0.005831\n",
      "Train Epoch: 6 [38400/60000 (64%)]\tLoss: 0.009886\n",
      "Train Epoch: 6 [44800/60000 (75%)]\tLoss: 0.009494\n",
      "Train Epoch: 6 [51200/60000 (85%)]\tLoss: 0.016264\n",
      "Train Epoch: 6 [57600/60000 (96%)]\tLoss: 0.008914\n",
      "\n",
      "Train set: Average loss: 0.0378, Accuracy: 58914/60000 (98.2%)\n",
      "\n",
      "\n",
      "Test set: Average loss: 0.0926, Accuracy: 9755/10000 (97.550%)\n",
      "\n",
      "Train Epoch: 7 [0/60000 (0%)]\tLoss: 0.086083\n",
      "Train Epoch: 7 [6400/60000 (11%)]\tLoss: 0.041861\n",
      "Train Epoch: 7 [12800/60000 (21%)]\tLoss: 0.171320\n",
      "Train Epoch: 7 [19200/60000 (32%)]\tLoss: 0.172518\n",
      "Train Epoch: 7 [25600/60000 (43%)]\tLoss: 0.066007\n",
      "Train Epoch: 7 [32000/60000 (53%)]\tLoss: 0.017841\n",
      "Train Epoch: 7 [38400/60000 (64%)]\tLoss: 0.017835\n",
      "Train Epoch: 7 [44800/60000 (75%)]\tLoss: 0.009403\n",
      "Train Epoch: 7 [51200/60000 (85%)]\tLoss: 0.022523\n",
      "Train Epoch: 7 [57600/60000 (96%)]\tLoss: 0.045791\n",
      "\n",
      "Train set: Average loss: 0.0053, Accuracy: 59098/60000 (98.5%)\n",
      "\n",
      "\n",
      "Test set: Average loss: 0.1134, Accuracy: 9715/10000 (97.150%)\n",
      "\n",
      "Train Epoch: 8 [0/60000 (0%)]\tLoss: 0.008069\n",
      "Train Epoch: 8 [6400/60000 (11%)]\tLoss: 0.040586\n",
      "Train Epoch: 8 [12800/60000 (21%)]\tLoss: 0.020849\n",
      "Train Epoch: 8 [19200/60000 (32%)]\tLoss: 0.118533\n",
      "Train Epoch: 8 [25600/60000 (43%)]\tLoss: 0.076930\n",
      "Train Epoch: 8 [32000/60000 (53%)]\tLoss: 0.033394\n",
      "Train Epoch: 8 [38400/60000 (64%)]\tLoss: 0.056148\n",
      "Train Epoch: 8 [44800/60000 (75%)]\tLoss: 0.014270\n",
      "Train Epoch: 8 [51200/60000 (85%)]\tLoss: 0.005945\n",
      "Train Epoch: 8 [57600/60000 (96%)]\tLoss: 0.012685\n",
      "\n",
      "Train set: Average loss: 0.0946, Accuracy: 59209/60000 (98.7%)\n",
      "\n",
      "\n",
      "Test set: Average loss: 0.0990, Accuracy: 9754/10000 (97.540%)\n",
      "\n",
      "Train Epoch: 9 [0/60000 (0%)]\tLoss: 0.004875\n",
      "Train Epoch: 9 [6400/60000 (11%)]\tLoss: 0.016175\n",
      "Train Epoch: 9 [12800/60000 (21%)]\tLoss: 0.080009\n",
      "Train Epoch: 9 [19200/60000 (32%)]\tLoss: 0.015390\n",
      "Train Epoch: 9 [25600/60000 (43%)]\tLoss: 0.003918\n",
      "Train Epoch: 9 [32000/60000 (53%)]\tLoss: 0.121686\n",
      "Train Epoch: 9 [38400/60000 (64%)]\tLoss: 0.140975\n",
      "Train Epoch: 9 [44800/60000 (75%)]\tLoss: 0.036524\n",
      "Train Epoch: 9 [51200/60000 (85%)]\tLoss: 0.014109\n",
      "Train Epoch: 9 [57600/60000 (96%)]\tLoss: 0.066995\n",
      "\n",
      "Train set: Average loss: 0.0942, Accuracy: 59267/60000 (98.8%)\n",
      "\n",
      "\n",
      "Test set: Average loss: 0.0828, Accuracy: 9785/10000 (97.850%)\n",
      "\n",
      "Train Epoch: 10 [0/60000 (0%)]\tLoss: 0.005293\n",
      "Train Epoch: 10 [6400/60000 (11%)]\tLoss: 0.082164\n",
      "Train Epoch: 10 [12800/60000 (21%)]\tLoss: 0.025022\n",
      "Train Epoch: 10 [19200/60000 (32%)]\tLoss: 0.014541\n",
      "Train Epoch: 10 [25600/60000 (43%)]\tLoss: 0.011536\n",
      "Train Epoch: 10 [32000/60000 (53%)]\tLoss: 0.001699\n",
      "Train Epoch: 10 [38400/60000 (64%)]\tLoss: 0.103418\n",
      "Train Epoch: 10 [44800/60000 (75%)]\tLoss: 0.051407\n",
      "Train Epoch: 10 [51200/60000 (85%)]\tLoss: 0.013181\n",
      "Train Epoch: 10 [57600/60000 (96%)]\tLoss: 0.009374\n",
      "\n",
      "Train set: Average loss: 0.0210, Accuracy: 59327/60000 (98.9%)\n",
      "\n",
      "\n",
      "Test set: Average loss: 0.0971, Accuracy: 9780/10000 (97.800%)\n",
      "\n",
      "Training is finished.\n"
     ]
    }
   ],
   "source": [
    "#########################################################################\n",
    "#TODO: modify the parameters below to see which setting that you can get to 97%\n",
    "#########################################################################\n",
    "nLayer = 5\n",
    "nHidden = 128\n",
    "act_fn = nn.ReLU()\n",
    "\n",
    "# reinitialize the mlp, so we can play with parameters right here\n",
    "mlp = MLP(nInput, nOutput, nLayer, nHidden, act_fn)\n",
    "optimizer = optim.Adam(mlp.parameters())\n",
    "\n",
    "epochs = 10\n",
    "for epoch in range(1, epochs + 1):\n",
    "    train(mlp, dl_train, optimizer, epoch, log_interval=100)\n",
    "    test(mlp, dl_test)\n",
    "\n",
    "print ('Training is finished.')"
   ]
  },
  {
   "cell_type": "markdown",
   "metadata": {},
   "source": [
    "Before you move on to the next exercise, you can further play with the other parameters (learning rate, epochs, a different optimizer, etc.) to get a feeling what can improve or hamper performance. "
   ]
  },
  {
   "cell_type": "markdown",
   "metadata": {},
   "source": [
    "## CNN\n",
    "Alright, we matched our prior performance. Let's surpass it! You will soon see the power of CNN by building a small one yourself. The structure should be as follows\n",
    "\n",
    "| CNN Architecture                             \t|\n",
    "|----------------------------------------------\t|\n",
    "| Conv: $C_{in}=1, C_{out}=32, K=3, S=1, P=0$  \t|\n",
    "| ReLU                                         \t|\n",
    "| Conv: $C_{in}=32, C_{out}=64, K=3, S=1, P=0$ \t|\n",
    "| ReLU                                         \t|\n",
    "| MaxPool2d: $K=2, S=2, P=0$                   \t|\n",
    "| Dropout: $p=0.25$                            \t|\n",
    "| Linear: $C_{in}=9216, C_{out}=128$           \t|\n",
    "| ReLU                                         \t|\n",
    "| Dropout: $p=0.5$                             \t|\n",
    "| Linear: $C_{in}=128, C_{out}=10$             \t|\n",
    "\n",
    "The layers you will need are: \n",
    "\n",
    "`nn.Conv2d,  nn.Linear,  nn.Dropout, nn.MaxPool2d, nn.Flatten`\n",
    "\n",
    "For layers without parameters you can alternatively use function in the forward pass:  \n",
    "\n",
    "`F.max_pool2d, torch.flatten`"
   ]
  },
  {
   "cell_type": "code",
   "execution_count": 3,
   "metadata": {},
   "outputs": [],
   "source": [
    "#########################################################################\n",
    "# TODO: Implement the __init__ and forward method of the CNN class. \n",
    "# Hint: do not forget to flatten the appropriate dimension after the convolutional blocks. \n",
    "# A linear layers expect input of the size (B, H) with batch size B and feature size H\n",
    "#########################################################################\n",
    "\n",
    "class CNN(nn.Module):\n",
    "    def __init__(self):\n",
    "        super(CNN, self).__init__()\n",
    "        \n",
    "        self.conv1 = nn.Conv2d(in_channels=1, out_channels=32, kernel_size=3, stride=1, padding=0)\n",
    "        self.conv2 = nn.Conv2d(in_channels=32, out_channels=64, kernel_size=3, stride=1, padding=0)\n",
    "        \n",
    "        self.maxpool = nn.MaxPool2d(kernel_size=2, stride=2, padding=0)\n",
    "        \n",
    "        self.dropout1 = nn.Dropout(p=0.25)\n",
    "        self.dropout2 = nn.Dropout(p=0.5)\n",
    "        \n",
    "        self.fc1 = nn.Linear(in_features=9216, out_features=128)\n",
    "        self.fc2 = nn.Linear(in_features=128, out_features=10)\n",
    "\n",
    "    def forward(self, x):\n",
    "        x = F.relu(self.conv1(x))\n",
    "        x = F.relu(self.conv2(x))\n",
    "        x = self.maxpool(x)\n",
    "        x = self.dropout1(x)\n",
    "        x = torch.flatten(x, 1) \n",
    "        x = F.relu(self.fc1(x))\n",
    "        x = self.dropout2(x)\n",
    "        x = self.fc2(x)\n",
    "        return x\n"
   ]
  },
  {
   "cell_type": "code",
   "execution_count": 4,
   "metadata": {},
   "outputs": [
    {
     "data": {
      "text/plain": [
       "torch.Size([1, 10])"
      ]
     },
     "execution_count": 4,
     "metadata": {},
     "output_type": "execute_result"
    }
   ],
   "source": [
    "# Let's test if the forward pass works\n",
    "# this should print torch.Size([1, 10])\n",
    "t = torch.randn(1,1,28,28)\n",
    "cnn = CNN()\n",
    "cnn(t).shape"
   ]
  },
  {
   "cell_type": "markdown",
   "metadata": {},
   "source": [
    "Alright, let's train!"
   ]
  },
  {
   "cell_type": "code",
   "execution_count": 5,
   "metadata": {},
   "outputs": [],
   "source": [
    "optimizer = optim.Adam(cnn.parameters())"
   ]
  },
  {
   "cell_type": "code",
   "execution_count": 24,
   "metadata": {
    "scrolled": true
   },
   "outputs": [
    {
     "name": "stdout",
     "output_type": "stream",
     "text": [
      "Train Epoch: 1 [0/60000 (0%)]\tLoss: 2.294010\n",
      "Train Epoch: 1 [6400/60000 (11%)]\tLoss: 0.288951\n",
      "Train Epoch: 1 [12800/60000 (21%)]\tLoss: 0.144411\n",
      "Train Epoch: 1 [19200/60000 (32%)]\tLoss: 0.110855\n",
      "Train Epoch: 1 [25600/60000 (43%)]\tLoss: 0.166725\n",
      "Train Epoch: 1 [32000/60000 (53%)]\tLoss: 0.109277\n",
      "Train Epoch: 1 [38400/60000 (64%)]\tLoss: 0.156605\n",
      "Train Epoch: 1 [44800/60000 (75%)]\tLoss: 0.123671\n",
      "Train Epoch: 1 [51200/60000 (85%)]\tLoss: 0.138331\n",
      "Train Epoch: 1 [57600/60000 (96%)]\tLoss: 0.014276\n",
      "\n",
      "Train set: Average loss: 0.0458, Accuracy: 56491/60000 (94.2%)\n",
      "\n",
      "\n",
      "Test set: Average loss: 0.0466, Accuracy: 9851/10000 (98.510%)\n",
      "\n",
      "Train Epoch: 2 [0/60000 (0%)]\tLoss: 0.112425\n",
      "Train Epoch: 2 [6400/60000 (11%)]\tLoss: 0.065316\n",
      "Train Epoch: 2 [12800/60000 (21%)]\tLoss: 0.045723\n",
      "Train Epoch: 2 [19200/60000 (32%)]\tLoss: 0.122718\n",
      "Train Epoch: 2 [25600/60000 (43%)]\tLoss: 0.083272\n",
      "Train Epoch: 2 [32000/60000 (53%)]\tLoss: 0.034872\n",
      "Train Epoch: 2 [38400/60000 (64%)]\tLoss: 0.157359\n",
      "Train Epoch: 2 [44800/60000 (75%)]\tLoss: 0.061442\n",
      "Train Epoch: 2 [51200/60000 (85%)]\tLoss: 0.035751\n",
      "Train Epoch: 2 [57600/60000 (96%)]\tLoss: 0.014843\n",
      "\n",
      "Train set: Average loss: 0.0560, Accuracy: 58595/60000 (97.7%)\n",
      "\n",
      "\n",
      "Test set: Average loss: 0.0350, Accuracy: 9885/10000 (98.850%)\n",
      "\n",
      "Train Epoch: 3 [0/60000 (0%)]\tLoss: 0.096351\n",
      "Train Epoch: 3 [6400/60000 (11%)]\tLoss: 0.062854\n",
      "Train Epoch: 3 [12800/60000 (21%)]\tLoss: 0.020807\n",
      "Train Epoch: 3 [19200/60000 (32%)]\tLoss: 0.057483\n",
      "Train Epoch: 3 [25600/60000 (43%)]\tLoss: 0.150119\n",
      "Train Epoch: 3 [32000/60000 (53%)]\tLoss: 0.217542\n",
      "Train Epoch: 3 [38400/60000 (64%)]\tLoss: 0.019349\n",
      "Train Epoch: 3 [44800/60000 (75%)]\tLoss: 0.027132\n",
      "Train Epoch: 3 [51200/60000 (85%)]\tLoss: 0.052471\n",
      "Train Epoch: 3 [57600/60000 (96%)]\tLoss: 0.078625\n",
      "\n",
      "Train set: Average loss: 0.1488, Accuracy: 58865/60000 (98.1%)\n",
      "\n",
      "\n",
      "Test set: Average loss: 0.0367, Accuracy: 9881/10000 (98.810%)\n",
      "\n",
      "Train Epoch: 4 [0/60000 (0%)]\tLoss: 0.116271\n",
      "Train Epoch: 4 [6400/60000 (11%)]\tLoss: 0.212722\n",
      "Train Epoch: 4 [12800/60000 (21%)]\tLoss: 0.010240\n",
      "Train Epoch: 4 [19200/60000 (32%)]\tLoss: 0.026852\n",
      "Train Epoch: 4 [25600/60000 (43%)]\tLoss: 0.034638\n",
      "Train Epoch: 4 [32000/60000 (53%)]\tLoss: 0.025524\n",
      "Train Epoch: 4 [38400/60000 (64%)]\tLoss: 0.004893\n",
      "Train Epoch: 4 [44800/60000 (75%)]\tLoss: 0.073652\n",
      "Train Epoch: 4 [51200/60000 (85%)]\tLoss: 0.016905\n",
      "Train Epoch: 4 [57600/60000 (96%)]\tLoss: 0.015836\n",
      "\n",
      "Train set: Average loss: 0.0379, Accuracy: 59083/60000 (98.5%)\n",
      "\n",
      "\n",
      "Test set: Average loss: 0.0361, Accuracy: 9883/10000 (98.830%)\n",
      "\n",
      "Train Epoch: 5 [0/60000 (0%)]\tLoss: 0.031769\n",
      "Train Epoch: 5 [6400/60000 (11%)]\tLoss: 0.045486\n",
      "Train Epoch: 5 [12800/60000 (21%)]\tLoss: 0.102158\n",
      "Train Epoch: 5 [19200/60000 (32%)]\tLoss: 0.067716\n",
      "Train Epoch: 5 [25600/60000 (43%)]\tLoss: 0.027721\n",
      "Train Epoch: 5 [32000/60000 (53%)]\tLoss: 0.019650\n",
      "Train Epoch: 5 [38400/60000 (64%)]\tLoss: 0.007074\n",
      "Train Epoch: 5 [44800/60000 (75%)]\tLoss: 0.039603\n",
      "Train Epoch: 5 [51200/60000 (85%)]\tLoss: 0.019153\n",
      "Train Epoch: 5 [57600/60000 (96%)]\tLoss: 0.224435\n",
      "\n",
      "Train set: Average loss: 0.0004, Accuracy: 59189/60000 (98.6%)\n",
      "\n",
      "\n",
      "Test set: Average loss: 0.0287, Accuracy: 9912/10000 (99.120%)\n",
      "\n"
     ]
    }
   ],
   "source": [
    "epochs = 5\n",
    "for epoch in range(1, epochs + 1):\n",
    "    train(cnn, dl_train, optimizer, epoch, log_interval=100)\n",
    "    test(cnn, dl_test)"
   ]
  },
  {
   "cell_type": "markdown",
   "metadata": {},
   "source": [
    "This will probably take a bit longer to train, as a convolutional network is not very efficient on a CPU. The current settings should get you around **99%** accuracy. Nice! \n",
    "Again, you should try different hyperparameters and see how far you can push the performance."
   ]
  },
  {
   "cell_type": "markdown",
   "metadata": {},
   "source": [
    "### Inline Question\n",
    "\n",
    "If your model weight is randomly initalized, and no training is done as above. What accuracy do you think the model will get for a 10-class classification task in theory?\n",
    "\n",
    "**Your answer**: \n",
    "I believe that for a 10-class classification task the model accuracy would be approximately around the random chance. So basically 100/10 = 10% accuracy since there are 10 classes. "
   ]
  },
  {
   "cell_type": "markdown",
   "metadata": {},
   "source": [
    "## Training on CIFAR10\n",
    "\n",
    "Now we are going to move to something more challenging - CIFAR10. We can reuse most of the code above. Thankfully, CIFAR is also a popular dataset, so we can again make use of a PyTorch convience function."
   ]
  },
  {
   "cell_type": "code",
   "execution_count": 6,
   "metadata": {},
   "outputs": [
    {
     "name": "stdout",
     "output_type": "stream",
     "text": [
      "Files already downloaded and verified\n"
     ]
    }
   ],
   "source": [
    "ds_train = datasets.CIFAR10(root='./data', train=True, download=True)"
   ]
  },
  {
   "cell_type": "markdown",
   "metadata": {},
   "source": [
    "This dataset is not normalized yet, so we need to calculate the normalization constants."
   ]
  },
  {
   "cell_type": "code",
   "execution_count": 7,
   "metadata": {},
   "outputs": [],
   "source": [
    "ims_train = torch.tensor(ds_train.data)\n",
    "ims_train = ims_train.float() / 255."
   ]
  },
  {
   "cell_type": "code",
   "execution_count": 8,
   "metadata": {},
   "outputs": [
    {
     "data": {
      "text/plain": [
       "tensor([0.2470, 0.2435, 0.2616])"
      ]
     },
     "execution_count": 8,
     "metadata": {},
     "output_type": "execute_result"
    }
   ],
   "source": [
    "ims_train.std((0,1,2))"
   ]
  },
  {
   "cell_type": "code",
   "execution_count": 9,
   "metadata": {},
   "outputs": [],
   "source": [
    "#########################################################################\n",
    "# TODO: calculate the mean and std of CIFAR\n",
    "# hint: We want the mean and std of the channel dimension, these should\n",
    "# be 3 dimensional\n",
    "#########################################################################\n",
    "mu = torch.mean(ims_train, axis=(0, 1, 2))\n",
    "std = torch.std(ims_train, axis=(0, 1, 2))"
   ]
  },
  {
   "cell_type": "code",
   "execution_count": 10,
   "metadata": {},
   "outputs": [
    {
     "data": {
      "text/plain": [
       "tensor([0.4914, 0.4822, 0.4465])"
      ]
     },
     "execution_count": 10,
     "metadata": {},
     "output_type": "execute_result"
    }
   ],
   "source": [
    "torch.mean(ims_train, dim=(0,1,2))"
   ]
  },
  {
   "cell_type": "markdown",
   "metadata": {},
   "source": [
    "For CIFAR we want to make use of data augmentation to improve generalization. You will find all data augmentations data are included in torchvision here:\n",
    "\n",
    "https://pytorch.org/docs/stable/torchvision/transforms.html"
   ]
  },
  {
   "cell_type": "code",
   "execution_count": 11,
   "metadata": {},
   "outputs": [
    {
     "name": "stdout",
     "output_type": "stream",
     "text": [
      "Files already downloaded and verified\n",
      "Files already downloaded and verified\n"
     ]
    }
   ],
   "source": [
    "BATCH_SIZE = 128\n",
    "NUM_WORKERS = 4 # if you encounter some unexpected errors in data loading, try setting `NUM_WORKERS = 0`\n",
    "#########################################################################\n",
    "# TODO: Implement the proper transforms for the training and test dataloaders. \n",
    "# Then build train and test dataloaders with batch size 128 and 4 workers\n",
    "#\n",
    "# Train: \n",
    "# - Apply a random crop with size 32 on a padded version of the image with P=4\n",
    "# - Flip the image horizontally with a probability of 40 %\n",
    "# - Transform to a Tensor\n",
    "# - Normalize with the constants calculated above\n",
    "# Test: \n",
    "# - Transform to a Tensor\n",
    "# - Normalize with the constants calculated above\n",
    "#########################################################################\n",
    "transform_train = transforms.Compose([\n",
    "    transforms.Pad(padding=4),\n",
    "    transforms.RandomCrop(size=32),\n",
    "    transforms.RandomHorizontalFlip(p=0.4),\n",
    "    transforms.ToTensor(),\n",
    "    transforms.Normalize(mu, std)\n",
    "])\n",
    "transform_test = transforms.Compose([\n",
    "    transforms.ToTensor(),\n",
    "    transforms.Normalize(mu, std)\n",
    "])\n",
    "\n",
    "ds_train = datasets.CIFAR10('./data', train=True, download=True, transform=transform_train)\n",
    "ds_test = datasets.CIFAR10('./data', train=False, download=True, transform=transform_test)\n",
    "\n",
    "dl_train = DataLoader(ds_train, BATCH_SIZE)\n",
    "dl_test = DataLoader(ds_test, BATCH_SIZE)"
   ]
  },
  {
   "cell_type": "markdown",
   "metadata": {},
   "source": [
    "Setting up the  optimizer, this time we use SGD. The scheduler adapts the learning rate during traing (you can ignore it)"
   ]
  },
  {
   "cell_type": "code",
   "execution_count": 12,
   "metadata": {},
   "outputs": [],
   "source": [
    "cnn = CNN()\n",
    "optimizer = optim.SGD(cnn.parameters(), lr=0.1, momentum=0.9, weight_decay=5e-4)\n",
    "scheduler = torch.optim.lr_scheduler.CosineAnnealingLR(optimizer, T_max=200)"
   ]
  },
  {
   "cell_type": "code",
   "execution_count": 15,
   "metadata": {
    "scrolled": true
   },
   "outputs": [
    {
     "ename": "RuntimeError",
     "evalue": "Given groups=1, weight of size [32, 1, 3, 3], expected input[128, 3, 32, 32] to have 1 channels, but got 3 channels instead",
     "output_type": "error",
     "traceback": [
      "\u001b[1;31m---------------------------------------------------------------------------\u001b[0m",
      "\u001b[1;31mRuntimeError\u001b[0m                              Traceback (most recent call last)",
      "\u001b[1;32mc:\\Users\\chris\\Desktop\\Computer-Vision-2023\\exercise-dl4cv\\code\\image_classification.ipynb Cell 54\u001b[0m line \u001b[0;36m3\n\u001b[0;32m      <a href='vscode-notebook-cell:/c%3A/Users/chris/Desktop/Computer-Vision-2023/exercise-dl4cv/code/image_classification.ipynb#Y104sZmlsZQ%3D%3D?line=0'>1</a>\u001b[0m epochs \u001b[39m=\u001b[39m \u001b[39m5\u001b[39m\n\u001b[0;32m      <a href='vscode-notebook-cell:/c%3A/Users/chris/Desktop/Computer-Vision-2023/exercise-dl4cv/code/image_classification.ipynb#Y104sZmlsZQ%3D%3D?line=1'>2</a>\u001b[0m \u001b[39mfor\u001b[39;00m epoch \u001b[39min\u001b[39;00m \u001b[39mrange\u001b[39m(\u001b[39m1\u001b[39m, epochs \u001b[39m+\u001b[39m \u001b[39m1\u001b[39m):\n\u001b[1;32m----> <a href='vscode-notebook-cell:/c%3A/Users/chris/Desktop/Computer-Vision-2023/exercise-dl4cv/code/image_classification.ipynb#Y104sZmlsZQ%3D%3D?line=2'>3</a>\u001b[0m     train(cnn, dl_train, optimizer, epoch, log_interval\u001b[39m=\u001b[39;49m\u001b[39m100\u001b[39;49m)\n\u001b[0;32m      <a href='vscode-notebook-cell:/c%3A/Users/chris/Desktop/Computer-Vision-2023/exercise-dl4cv/code/image_classification.ipynb#Y104sZmlsZQ%3D%3D?line=3'>4</a>\u001b[0m     test(cnn, dl_test)    \n\u001b[0;32m      <a href='vscode-notebook-cell:/c%3A/Users/chris/Desktop/Computer-Vision-2023/exercise-dl4cv/code/image_classification.ipynb#Y104sZmlsZQ%3D%3D?line=4'>5</a>\u001b[0m     scheduler\u001b[39m.\u001b[39mstep()\n",
      "\u001b[1;32mc:\\Users\\chris\\Desktop\\Computer-Vision-2023\\exercise-dl4cv\\code\\image_classification.ipynb Cell 54\u001b[0m line \u001b[0;36m1\n\u001b[0;32m     <a href='vscode-notebook-cell:/c%3A/Users/chris/Desktop/Computer-Vision-2023/exercise-dl4cv/code/image_classification.ipynb#Y104sZmlsZQ%3D%3D?line=13'>14</a>\u001b[0m optimizer\u001b[39m.\u001b[39mzero_grad()         \n\u001b[0;32m     <a href='vscode-notebook-cell:/c%3A/Users/chris/Desktop/Computer-Vision-2023/exercise-dl4cv/code/image_classification.ipynb#Y104sZmlsZQ%3D%3D?line=15'>16</a>\u001b[0m \u001b[39m##### implement this part #####\u001b[39;00m\n\u001b[1;32m---> <a href='vscode-notebook-cell:/c%3A/Users/chris/Desktop/Computer-Vision-2023/exercise-dl4cv/code/image_classification.ipynb#Y104sZmlsZQ%3D%3D?line=17'>18</a>\u001b[0m output \u001b[39m=\u001b[39m model(data)\n\u001b[0;32m     <a href='vscode-notebook-cell:/c%3A/Users/chris/Desktop/Computer-Vision-2023/exercise-dl4cv/code/image_classification.ipynb#Y104sZmlsZQ%3D%3D?line=18'>19</a>\u001b[0m loss \u001b[39m=\u001b[39m F\u001b[39m.\u001b[39mcross_entropy(output, target)\n\u001b[0;32m     <a href='vscode-notebook-cell:/c%3A/Users/chris/Desktop/Computer-Vision-2023/exercise-dl4cv/code/image_classification.ipynb#Y104sZmlsZQ%3D%3D?line=19'>20</a>\u001b[0m loss\u001b[39m.\u001b[39mbackward()\n",
      "File \u001b[1;32mc:\\Users\\chris\\anaconda3\\envs\\dl4cv\\lib\\site-packages\\torch\\nn\\modules\\module.py:1110\u001b[0m, in \u001b[0;36mModule._call_impl\u001b[1;34m(self, *input, **kwargs)\u001b[0m\n\u001b[0;32m   1106\u001b[0m \u001b[39m# If we don't have any hooks, we want to skip the rest of the logic in\u001b[39;00m\n\u001b[0;32m   1107\u001b[0m \u001b[39m# this function, and just call forward.\u001b[39;00m\n\u001b[0;32m   1108\u001b[0m \u001b[39mif\u001b[39;00m \u001b[39mnot\u001b[39;00m (\u001b[39mself\u001b[39m\u001b[39m.\u001b[39m_backward_hooks \u001b[39mor\u001b[39;00m \u001b[39mself\u001b[39m\u001b[39m.\u001b[39m_forward_hooks \u001b[39mor\u001b[39;00m \u001b[39mself\u001b[39m\u001b[39m.\u001b[39m_forward_pre_hooks \u001b[39mor\u001b[39;00m _global_backward_hooks\n\u001b[0;32m   1109\u001b[0m         \u001b[39mor\u001b[39;00m _global_forward_hooks \u001b[39mor\u001b[39;00m _global_forward_pre_hooks):\n\u001b[1;32m-> 1110\u001b[0m     \u001b[39mreturn\u001b[39;00m forward_call(\u001b[39m*\u001b[39m\u001b[39minput\u001b[39m, \u001b[39m*\u001b[39m\u001b[39m*\u001b[39mkwargs)\n\u001b[0;32m   1111\u001b[0m \u001b[39m# Do not call functions when jit is used\u001b[39;00m\n\u001b[0;32m   1112\u001b[0m full_backward_hooks, non_full_backward_hooks \u001b[39m=\u001b[39m [], []\n",
      "\u001b[1;32mc:\\Users\\chris\\Desktop\\Computer-Vision-2023\\exercise-dl4cv\\code\\image_classification.ipynb Cell 54\u001b[0m line \u001b[0;36m2\n\u001b[0;32m     <a href='vscode-notebook-cell:/c%3A/Users/chris/Desktop/Computer-Vision-2023/exercise-dl4cv/code/image_classification.ipynb#Y104sZmlsZQ%3D%3D?line=21'>22</a>\u001b[0m \u001b[39mdef\u001b[39;00m \u001b[39mforward\u001b[39m(\u001b[39mself\u001b[39m, x):\n\u001b[1;32m---> <a href='vscode-notebook-cell:/c%3A/Users/chris/Desktop/Computer-Vision-2023/exercise-dl4cv/code/image_classification.ipynb#Y104sZmlsZQ%3D%3D?line=22'>23</a>\u001b[0m     x \u001b[39m=\u001b[39m F\u001b[39m.\u001b[39mrelu(\u001b[39mself\u001b[39;49m\u001b[39m.\u001b[39;49mconv1(x))\n\u001b[0;32m     <a href='vscode-notebook-cell:/c%3A/Users/chris/Desktop/Computer-Vision-2023/exercise-dl4cv/code/image_classification.ipynb#Y104sZmlsZQ%3D%3D?line=23'>24</a>\u001b[0m     x \u001b[39m=\u001b[39m F\u001b[39m.\u001b[39mrelu(\u001b[39mself\u001b[39m\u001b[39m.\u001b[39mconv2(x))\n\u001b[0;32m     <a href='vscode-notebook-cell:/c%3A/Users/chris/Desktop/Computer-Vision-2023/exercise-dl4cv/code/image_classification.ipynb#Y104sZmlsZQ%3D%3D?line=24'>25</a>\u001b[0m     x \u001b[39m=\u001b[39m \u001b[39mself\u001b[39m\u001b[39m.\u001b[39mmaxpool(x)\n",
      "File \u001b[1;32mc:\\Users\\chris\\anaconda3\\envs\\dl4cv\\lib\\site-packages\\torch\\nn\\modules\\module.py:1110\u001b[0m, in \u001b[0;36mModule._call_impl\u001b[1;34m(self, *input, **kwargs)\u001b[0m\n\u001b[0;32m   1106\u001b[0m \u001b[39m# If we don't have any hooks, we want to skip the rest of the logic in\u001b[39;00m\n\u001b[0;32m   1107\u001b[0m \u001b[39m# this function, and just call forward.\u001b[39;00m\n\u001b[0;32m   1108\u001b[0m \u001b[39mif\u001b[39;00m \u001b[39mnot\u001b[39;00m (\u001b[39mself\u001b[39m\u001b[39m.\u001b[39m_backward_hooks \u001b[39mor\u001b[39;00m \u001b[39mself\u001b[39m\u001b[39m.\u001b[39m_forward_hooks \u001b[39mor\u001b[39;00m \u001b[39mself\u001b[39m\u001b[39m.\u001b[39m_forward_pre_hooks \u001b[39mor\u001b[39;00m _global_backward_hooks\n\u001b[0;32m   1109\u001b[0m         \u001b[39mor\u001b[39;00m _global_forward_hooks \u001b[39mor\u001b[39;00m _global_forward_pre_hooks):\n\u001b[1;32m-> 1110\u001b[0m     \u001b[39mreturn\u001b[39;00m forward_call(\u001b[39m*\u001b[39m\u001b[39minput\u001b[39m, \u001b[39m*\u001b[39m\u001b[39m*\u001b[39mkwargs)\n\u001b[0;32m   1111\u001b[0m \u001b[39m# Do not call functions when jit is used\u001b[39;00m\n\u001b[0;32m   1112\u001b[0m full_backward_hooks, non_full_backward_hooks \u001b[39m=\u001b[39m [], []\n",
      "File \u001b[1;32mc:\\Users\\chris\\anaconda3\\envs\\dl4cv\\lib\\site-packages\\torch\\nn\\modules\\conv.py:447\u001b[0m, in \u001b[0;36mConv2d.forward\u001b[1;34m(self, input)\u001b[0m\n\u001b[0;32m    446\u001b[0m \u001b[39mdef\u001b[39;00m \u001b[39mforward\u001b[39m(\u001b[39mself\u001b[39m, \u001b[39minput\u001b[39m: Tensor) \u001b[39m-\u001b[39m\u001b[39m>\u001b[39m Tensor:\n\u001b[1;32m--> 447\u001b[0m     \u001b[39mreturn\u001b[39;00m \u001b[39mself\u001b[39;49m\u001b[39m.\u001b[39;49m_conv_forward(\u001b[39minput\u001b[39;49m, \u001b[39mself\u001b[39;49m\u001b[39m.\u001b[39;49mweight, \u001b[39mself\u001b[39;49m\u001b[39m.\u001b[39;49mbias)\n",
      "File \u001b[1;32mc:\\Users\\chris\\anaconda3\\envs\\dl4cv\\lib\\site-packages\\torch\\nn\\modules\\conv.py:443\u001b[0m, in \u001b[0;36mConv2d._conv_forward\u001b[1;34m(self, input, weight, bias)\u001b[0m\n\u001b[0;32m    439\u001b[0m \u001b[39mif\u001b[39;00m \u001b[39mself\u001b[39m\u001b[39m.\u001b[39mpadding_mode \u001b[39m!=\u001b[39m \u001b[39m'\u001b[39m\u001b[39mzeros\u001b[39m\u001b[39m'\u001b[39m:\n\u001b[0;32m    440\u001b[0m     \u001b[39mreturn\u001b[39;00m F\u001b[39m.\u001b[39mconv2d(F\u001b[39m.\u001b[39mpad(\u001b[39minput\u001b[39m, \u001b[39mself\u001b[39m\u001b[39m.\u001b[39m_reversed_padding_repeated_twice, mode\u001b[39m=\u001b[39m\u001b[39mself\u001b[39m\u001b[39m.\u001b[39mpadding_mode),\n\u001b[0;32m    441\u001b[0m                     weight, bias, \u001b[39mself\u001b[39m\u001b[39m.\u001b[39mstride,\n\u001b[0;32m    442\u001b[0m                     _pair(\u001b[39m0\u001b[39m), \u001b[39mself\u001b[39m\u001b[39m.\u001b[39mdilation, \u001b[39mself\u001b[39m\u001b[39m.\u001b[39mgroups)\n\u001b[1;32m--> 443\u001b[0m \u001b[39mreturn\u001b[39;00m F\u001b[39m.\u001b[39;49mconv2d(\u001b[39minput\u001b[39;49m, weight, bias, \u001b[39mself\u001b[39;49m\u001b[39m.\u001b[39;49mstride,\n\u001b[0;32m    444\u001b[0m                 \u001b[39mself\u001b[39;49m\u001b[39m.\u001b[39;49mpadding, \u001b[39mself\u001b[39;49m\u001b[39m.\u001b[39;49mdilation, \u001b[39mself\u001b[39;49m\u001b[39m.\u001b[39;49mgroups)\n",
      "\u001b[1;31mRuntimeError\u001b[0m: Given groups=1, weight of size [32, 1, 3, 3], expected input[128, 3, 32, 32] to have 1 channels, but got 3 channels instead"
     ]
    }
   ],
   "source": [
    "epochs = 5\n",
    "for epoch in range(1, epochs + 1):\n",
    "    train(cnn, dl_train, optimizer, epoch, log_interval=100)\n",
    "    test(cnn, dl_test)    \n",
    "    scheduler.step()"
   ]
  },
  {
   "cell_type": "markdown",
   "metadata": {},
   "source": [
    "This will not work. You should see the following error message\n",
    "\n",
    "```\n",
    "Given groups=1, weight of size [32, 1, 3, 3], expected input[128, 3, 32, 32] to have 1 channels, but got 3 channels instead\n",
    "```\n",
    "\n",
    "This error is telling us that something is not right in the definition of our model. Copy the CNN class from above and make changes, so the training works."
   ]
  },
  {
   "cell_type": "code",
   "execution_count": 16,
   "metadata": {},
   "outputs": [
    {
     "name": "stdout",
     "output_type": "stream",
     "text": [
      "torch.Size([1, 10])\n"
     ]
    }
   ],
   "source": [
    "#########################################################################\n",
    "# TODO: Adapt the definition from the CNN class above to work on CIFAR.\n",
    "# You can copy and run the following prompt for evaluation:\n",
    "# CNN()(torch.randn(1,3,32,32)).shape\n",
    "# It should print 'torch.Size([1, 10])'\n",
    "# Hint: You need to change 2 things. \n",
    "#########################################################################\n",
    "\n",
    "\n",
    "class CNN(nn.Module):\n",
    "    def __init__(self):\n",
    "        super(CNN, self).__init__()\n",
    "\n",
    "        self.conv1 = nn.Conv2d(in_channels=3, out_channels=32, kernel_size=3, stride=1, padding=0)\n",
    "        self.conv2 = nn.Conv2d(in_channels=32, out_channels=64, kernel_size=3, stride=1, padding=0)\n",
    "        \n",
    "        self.maxpool = nn.MaxPool2d(kernel_size=2, stride=2, padding=0)\n",
    "        \n",
    "        self.dropout1 = nn.Dropout(p=0.25)\n",
    "        self.dropout2 = nn.Dropout(p=0.5)\n",
    "        \n",
    "        self.fc1 = nn.Linear(in_features=12544, out_features=128)\n",
    "        self.fc2 = nn.Linear(in_features=128, out_features=10)\n",
    "\n",
    "    def forward(self, x):\n",
    "        x = F.relu(self.conv1(x))\n",
    "        x = F.relu(self.conv2(x))\n",
    "        x = self.maxpool(x)\n",
    "        x = self.dropout1(x)\n",
    "        x = torch.flatten(x, 1) \n",
    "        x = F.relu(self.fc1(x))\n",
    "        x = self.dropout2(x)\n",
    "        x = self.fc2(x)\n",
    "        return x\n",
    "\n",
    "\n",
    "print(CNN()(torch.randn(1,3,32,32)).shape)"
   ]
  },
  {
   "cell_type": "markdown",
   "metadata": {},
   "source": [
    "Let's try again"
   ]
  },
  {
   "cell_type": "code",
   "execution_count": 19,
   "metadata": {
    "scrolled": true
   },
   "outputs": [
    {
     "name": "stdout",
     "output_type": "stream",
     "text": [
      "Train Epoch: 1 [0/50000 (0%)]\tLoss: 2.306159\n",
      "Train Epoch: 1 [12800/50000 (26%)]\tLoss: 2.126071\n",
      "Train Epoch: 1 [25600/50000 (51%)]\tLoss: 2.259961\n",
      "Train Epoch: 1 [38400/50000 (77%)]\tLoss: 2.141479\n",
      "\n",
      "Train set: Average loss: 1.9558, Accuracy: 9513/50000 (19.0%)\n",
      "\n",
      "\n",
      "Test set: Average loss: 1.9369, Accuracy: 2652/10000 (26.520%)\n",
      "\n",
      "Train Epoch: 2 [0/50000 (0%)]\tLoss: 2.041414\n",
      "Train Epoch: 2 [12800/50000 (26%)]\tLoss: 1.909311\n",
      "Train Epoch: 2 [25600/50000 (51%)]\tLoss: 2.285891\n",
      "Train Epoch: 2 [38400/50000 (77%)]\tLoss: 1.816496\n",
      "\n",
      "Train set: Average loss: 1.9441, Accuracy: 13472/50000 (26.9%)\n",
      "\n",
      "\n",
      "Test set: Average loss: 1.7311, Accuracy: 3493/10000 (34.930%)\n",
      "\n",
      "Train Epoch: 3 [0/50000 (0%)]\tLoss: 1.828233\n",
      "Train Epoch: 3 [12800/50000 (26%)]\tLoss: 1.720669\n",
      "Train Epoch: 3 [25600/50000 (51%)]\tLoss: 1.940919\n",
      "Train Epoch: 3 [38400/50000 (77%)]\tLoss: 1.822531\n",
      "\n",
      "Train set: Average loss: 1.8401, Accuracy: 15369/50000 (30.7%)\n",
      "\n",
      "\n",
      "Test set: Average loss: 1.6968, Accuracy: 3709/10000 (37.090%)\n",
      "\n",
      "Train Epoch: 4 [0/50000 (0%)]\tLoss: 1.820403\n",
      "Train Epoch: 4 [12800/50000 (26%)]\tLoss: 1.740273\n",
      "Train Epoch: 4 [25600/50000 (51%)]\tLoss: 1.822712\n",
      "Train Epoch: 4 [38400/50000 (77%)]\tLoss: 1.621008\n",
      "\n",
      "Train set: Average loss: 1.8876, Accuracy: 16029/50000 (32.1%)\n",
      "\n",
      "\n",
      "Test set: Average loss: 1.6294, Accuracy: 3958/10000 (39.580%)\n",
      "\n",
      "Train Epoch: 5 [0/50000 (0%)]\tLoss: 1.787700\n",
      "Train Epoch: 5 [12800/50000 (26%)]\tLoss: 1.779570\n",
      "Train Epoch: 5 [25600/50000 (51%)]\tLoss: 1.765053\n",
      "Train Epoch: 5 [38400/50000 (77%)]\tLoss: 1.768246\n",
      "\n",
      "Train set: Average loss: 1.6254, Accuracy: 16776/50000 (33.6%)\n",
      "\n",
      "\n",
      "Test set: Average loss: 1.5349, Accuracy: 4379/10000 (43.790%)\n",
      "\n",
      "Train Epoch: 6 [0/50000 (0%)]\tLoss: 1.683153\n",
      "Train Epoch: 6 [12800/50000 (26%)]\tLoss: 1.660868\n",
      "Train Epoch: 6 [25600/50000 (51%)]\tLoss: 1.697326\n",
      "Train Epoch: 6 [38400/50000 (77%)]\tLoss: 1.768664\n",
      "\n",
      "Train set: Average loss: 1.8385, Accuracy: 18010/50000 (36.0%)\n",
      "\n",
      "\n",
      "Test set: Average loss: 1.5711, Accuracy: 4223/10000 (42.230%)\n",
      "\n",
      "Train Epoch: 7 [0/50000 (0%)]\tLoss: 1.806962\n",
      "Train Epoch: 7 [12800/50000 (26%)]\tLoss: 1.688175\n",
      "Train Epoch: 7 [25600/50000 (51%)]\tLoss: 1.823477\n",
      "Train Epoch: 7 [38400/50000 (77%)]\tLoss: 1.841809\n",
      "\n",
      "Train set: Average loss: 1.9216, Accuracy: 17306/50000 (34.6%)\n",
      "\n",
      "\n",
      "Test set: Average loss: 1.6330, Accuracy: 4115/10000 (41.150%)\n",
      "\n",
      "Train Epoch: 8 [0/50000 (0%)]\tLoss: 1.812550\n",
      "Train Epoch: 8 [12800/50000 (26%)]\tLoss: 1.694962\n",
      "Train Epoch: 8 [25600/50000 (51%)]\tLoss: 1.684803\n",
      "Train Epoch: 8 [38400/50000 (77%)]\tLoss: 1.818531\n",
      "\n",
      "Train set: Average loss: 1.9743, Accuracy: 18078/50000 (36.2%)\n",
      "\n",
      "\n",
      "Test set: Average loss: 1.4889, Accuracy: 4577/10000 (45.770%)\n",
      "\n",
      "Train Epoch: 9 [0/50000 (0%)]\tLoss: 1.800847\n",
      "Train Epoch: 9 [12800/50000 (26%)]\tLoss: 1.515456\n",
      "Train Epoch: 9 [25600/50000 (51%)]\tLoss: 1.718754\n",
      "Train Epoch: 9 [38400/50000 (77%)]\tLoss: 1.711149\n",
      "\n",
      "Train set: Average loss: 1.6419, Accuracy: 18506/50000 (37.0%)\n",
      "\n",
      "\n",
      "Test set: Average loss: 1.5000, Accuracy: 4634/10000 (46.340%)\n",
      "\n",
      "Train Epoch: 10 [0/50000 (0%)]\tLoss: 1.793157\n",
      "Train Epoch: 10 [12800/50000 (26%)]\tLoss: 1.522796\n",
      "Train Epoch: 10 [25600/50000 (51%)]\tLoss: 1.736200\n",
      "Train Epoch: 10 [38400/50000 (77%)]\tLoss: 1.835973\n",
      "\n",
      "Train set: Average loss: 1.9278, Accuracy: 18537/50000 (37.1%)\n",
      "\n",
      "\n",
      "Test set: Average loss: 1.4839, Accuracy: 4654/10000 (46.540%)\n",
      "\n"
     ]
    }
   ],
   "source": [
    "cnn = CNN()\n",
    "optimizer = optim.SGD(cnn.parameters(), lr=0.1, momentum=0.9, weight_decay=5e-4)\n",
    "scheduler = torch.optim.lr_scheduler.CosineAnnealingLR(optimizer, T_max=200)\n",
    "\n",
    "epochs = 10\n",
    "for epoch in range(1, epochs + 1):\n",
    "    train(cnn, dl_train, optimizer, epoch, log_interval=100)\n",
    "    test(cnn, dl_test)    \n",
    "    scheduler.step()"
   ]
  },
  {
   "cell_type": "markdown",
   "metadata": {},
   "source": [
    "This should give 40 - 50 % - and if you are not already on Colab it will give you a stressed out laptop. The performance is a lot better than random, but we can definitely do better."
   ]
  },
  {
   "cell_type": "markdown",
   "metadata": {},
   "source": [
    "### Have fun with GPUs\n",
    "You can already call it a day until this point because we won't grade the rest of the excecise. You can have more fun with the rest :)\n"
   ]
  },
  {
   "cell_type": "markdown",
   "metadata": {},
   "source": [
    "\n",
    "If you didn't already, move to colab. To use a GPU, follow on the collaboratory menu tabs, \"Runtime\" => \"Change runtime type\" and set it to GPU. Then run the same training loop but now on GPU. \n",
    "\n",
    "It as easy as:"
   ]
  },
  {
   "cell_type": "code",
   "execution_count": null,
   "metadata": {},
   "outputs": [],
   "source": [
    "device = 'cuda'\n",
    "if device == 'cuda': torch.backends.cudnn.benchmark = True # additional speed up\n",
    "\n",
    "cnn = CNN()\n",
    "optimizer = optim.SGD(cnn.parameters(), lr=0.1, momentum=0.9, weight_decay=5e-4)\n",
    "scheduler = torch.optim.lr_scheduler.CosineAnnealingLR(optimizer, T_max=200)\n",
    "cnn = cnn.to(device)\n",
    "\n",
    "epochs = 10\n",
    "for epoch in range(1, epochs + 1):\n",
    "    train(cnn, dl_train, optimizer, epoch, log_interval=100, device=device)\n",
    "    test(cnn, dl_test, device=device)    \n",
    "    scheduler.step()"
   ]
  },
  {
   "cell_type": "markdown",
   "metadata": {},
   "source": [
    "This should be way faster now. But the true advantage of the GPU is that we can use much bigger models now and still train them in a reasonable amount of time. PyTorch is again very handy. The torchvision library comes with varies state-of-the-art model architectures, some of which you have seen in the lecture."
   ]
  },
  {
   "cell_type": "code",
   "execution_count": null,
   "metadata": {},
   "outputs": [],
   "source": [
    "from torchvision.models import resnet18"
   ]
  },
  {
   "cell_type": "code",
   "execution_count": null,
   "metadata": {
    "scrolled": true
   },
   "outputs": [],
   "source": [
    "cnn = resnet18()\n",
    "print(cnn)"
   ]
  },
  {
   "cell_type": "markdown",
   "metadata": {},
   "source": [
    "Looks scary! But the only thing you need to change to make it work on CIFAR is the last layer.\n",
    "Currently the last layer is:\n",
    "```\n",
    "  (fc): Linear(in_features=512, out_features=1000, bias=True)\n",
    "```\n",
    "out_features is the number of classes. This models are developed for Imagenet, a dataset with 1000 classes. So this part of the model you need to adapt. Additionally, you need to add a log-softmax layer again, as we us negative log-likelihood as the training criterion. "
   ]
  },
  {
   "cell_type": "code",
   "execution_count": null,
   "metadata": {},
   "outputs": [],
   "source": [
    "#########################################################################\n",
    "# TODO: Adapt the Resnet to work on CIFAR\n",
    "#########################################################################\n"
   ]
  },
  {
   "cell_type": "code",
   "execution_count": null,
   "metadata": {},
   "outputs": [],
   "source": [
    "# This should print 'torch.Size([16, 10])'\n",
    "cnn(torch.randn(16,3,32,32)).shape"
   ]
  },
  {
   "cell_type": "code",
   "execution_count": null,
   "metadata": {},
   "outputs": [],
   "source": [
    "device = 'cuda'\n",
    "if device == 'cuda': torch.backends.cudnn.benchmark = True # this gives us additional speed up\n",
    "\n",
    "optimizer = optim.SGD(cnn.parameters(), lr=0.1, momentum=0.9, weight_decay=5e-4)\n",
    "scheduler = torch.optim.lr_scheduler.CosineAnnealingLR(optimizer, T_max=200)\n",
    "cnn = cnn.to(device)\n",
    "\n",
    "epochs = 50\n",
    "for epoch in range(1, epochs + 1):\n",
    "    train(cnn, dl_train, optimizer, epoch, log_interval=100, device=device)\n",
    "    test(cnn, dl_test, device=device)    \n",
    "    scheduler.step()"
   ]
  },
  {
   "cell_type": "markdown",
   "metadata": {},
   "source": [
    "This should get us well above 75%, the best we got was ~ 80%.\n",
    "\n",
    "Now, use different torchvision architectures, different optimizers (Adam is always a good choice), data augmentation techniques, and hyperparameter search to achieve a test accuracy of >90 %"
   ]
  },
  {
   "cell_type": "code",
   "execution_count": null,
   "metadata": {},
   "outputs": [],
   "source": []
  }
 ],
 "metadata": {
  "kernelspec": {
   "display_name": "Python 3.9.12 ('base')",
   "language": "python",
   "name": "python3"
  },
  "language_info": {
   "codemirror_mode": {
    "name": "ipython",
    "version": 3
   },
   "file_extension": ".py",
   "mimetype": "text/x-python",
   "name": "python",
   "nbconvert_exporter": "python",
   "pygments_lexer": "ipython3",
   "version": "3.9.18"
  },
  "vscode": {
   "interpreter": {
    "hash": "d268b61a0efacafa8645774cb6d0204c9f01d7563ef03f7672146d044e8f345c"
   }
  }
 },
 "nbformat": 4,
 "nbformat_minor": 4
}
